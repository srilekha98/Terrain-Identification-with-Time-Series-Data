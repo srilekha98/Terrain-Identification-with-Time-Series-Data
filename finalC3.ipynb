{
  "nbformat": 4,
  "nbformat_minor": 0,
  "metadata": {
    "colab": {
      "provenance": []
    },
    "kernelspec": {
      "name": "python3",
      "display_name": "Python 3"
    },
    "language_info": {
      "name": "python"
    },
    "gpuClass": "standard",
    "accelerator": "TPU"
  },
  "cells": [
    {
      "cell_type": "markdown",
      "source": [
        "Connect to a TPU, import the required libraries and connect to the drive"
      ],
      "metadata": {
        "id": "Keb1w1gsEhhJ"
      }
    },
    {
      "cell_type": "code",
      "execution_count": null,
      "metadata": {
        "colab": {
          "base_uri": "https://localhost:8080/"
        },
        "id": "v7Up8qnh5vel",
        "outputId": "55dc0bee-a888-4284-f2a3-853d9937c29a"
      },
      "outputs": [
        {
          "output_type": "stream",
          "name": "stdout",
          "text": [
            "Tensorflow version 2.12.0\n",
            "Running on TPU  ['10.93.236.10:8470']\n"
          ]
        }
      ],
      "source": [
        "import tensorflow as tf\n",
        "print(\"Tensorflow version \" + tf.__version__)\n",
        "\n",
        "try:\n",
        "  tpu = tf.distribute.cluster_resolver.TPUClusterResolver()  # TPU detection\n",
        "  print('Running on TPU ', tpu.cluster_spec().as_dict()['worker'])\n",
        "except ValueError:\n",
        "  raise BaseException('ERROR: Not connected to a TPU runtime; please see the previous cell in this notebook for instructions!')\n",
        "\n",
        "tf.config.experimental_connect_to_cluster(tpu)\n",
        "tf.tpu.experimental.initialize_tpu_system(tpu)\n",
        "tpu_strategy = tf.distribute.TPUStrategy(tpu)"
      ]
    },
    {
      "cell_type": "code",
      "source": [
        "from google.colab import drive\n",
        "drive.mount('/content/drive')"
      ],
      "metadata": {
        "colab": {
          "base_uri": "https://localhost:8080/"
        },
        "id": "CUThpNSm54tB",
        "outputId": "b018acc8-13d6-411b-abcc-4fb86546f57e"
      },
      "execution_count": null,
      "outputs": [
        {
          "output_type": "stream",
          "name": "stdout",
          "text": [
            "Mounted at /content/drive\n"
          ]
        }
      ]
    },
    {
      "cell_type": "code",
      "source": [
        "import glob \n",
        "import pickle\n",
        "import os\n",
        "import re\n",
        "import warnings\n",
        "warnings.filterwarnings('ignore')\n",
        "import numpy as np\n",
        "import pandas as pd\n",
        "import fnmatch\n",
        "import matplotlib.pyplot as plt\n",
        "from collections import defaultdict\n",
        "%matplotlib inline\n",
        "from IPython.core.display import HTML\n",
        "import seaborn as sns\n",
        "import matplotlib.ticker as ticker\n",
        "from sklearn.model_selection import train_test_split\n",
        "from sklearn import model_selection\n",
        "from imblearn.over_sampling import SMOTE\n",
        "from sklearn.ensemble import RandomForestClassifier\n",
        "\n",
        "from sklearn.linear_model import LogisticRegression\n",
        "from sklearn.preprocessing import StandardScaler\n",
        "from sklearn import preprocessing\n",
        "from sklearn.model_selection import cross_val_score\n",
        "from sklearn.metrics import accuracy_score\n",
        "from sklearn.metrics import classification_report, confusion_matrix\n",
        "from keras.models import Sequential\n",
        "from keras.layers import Dense\n",
        "from keras.layers import Flatten, Reshape\n",
        "from keras.utils import to_categorical\n",
        "from keras.layers.convolutional import Conv1D\n",
        "from keras.layers.convolutional import MaxPooling1D\n",
        "from keras.optimizers import SGD, Adam, RMSprop\n",
        "from keras.layers import Dropout, InputLayer, LSTM\n",
        "from keras.layers import Bidirectional, BatchNormalization\n",
        "from keras.layers import TimeDistributed\n",
        "from keras.layers import Conv2D, MaxPooling2D, Flatten, Dense, Activation, BatchNormalization, Dropout, UpSampling1D, AveragePooling1D\n",
        "from keras.callbacks import EarlyStopping, ReduceLROnPlateau"
      ],
      "metadata": {
        "id": "iybjmdIT6DR5"
      },
      "execution_count": null,
      "outputs": []
    },
    {
      "cell_type": "code",
      "source": [
        "path = '/content/drive/MyDrive/ECE542_sp2022_Project_TerrainRecognition'"
      ],
      "metadata": {
        "id": "Z0ERYMKs6UGb"
      },
      "execution_count": null,
      "outputs": []
    },
    {
      "cell_type": "code",
      "source": [
        "trainData = os.listdir(f\"{path}/TrainingData\")[1::]\n",
        "x_time_files = fnmatch.filter(trainData,'*x_time.csv')\n",
        "y_time_files = fnmatch.filter(trainData,'*y_time.csv')\n",
        "x_files = fnmatch.filter(trainData,'*x.csv')\n",
        "y_files = fnmatch.filter(trainData,'*y.csv')\n",
        "\n",
        "#Test Data\n",
        "testData = os.listdir(f\"{path}/TestData\")\n",
        "test_x_time_files = fnmatch.filter(testData,'*x_time.csv')\n",
        "test_y_time_files = fnmatch.filter(testData,'*y_time.csv')\n",
        "test_x_files = fnmatch.filter(testData,'*x.csv')"
      ],
      "metadata": {
        "id": "I5wRUaCp6jZt"
      },
      "execution_count": null,
      "outputs": []
    },
    {
      "cell_type": "markdown",
      "source": [
        "Pre-processing the data and merging"
      ],
      "metadata": {
        "id": "1Ym-GYJeJxZ0"
      }
    },
    {
      "cell_type": "code",
      "source": [
        "main_df = pd.DataFrame()\n",
        "files = sorted(set([x[:14] for x in x_files]))\n",
        "\n",
        "for file in files:\n",
        "    temp_x = pd.read_csv(f\"{path}/TrainingData/{file}__x.csv\", names=[\"accr_x\", \"accr_y\",\"accr_z\",\"gyr_x\",\"gyr_y\",\"gyr_z\"])\n",
        "    temp_xt = pd.read_csv(f\"{path}/TrainingData/{file}__x_time.csv\", names = [\"time\"])\n",
        "    temp_x['time'] = temp_xt['time']\n",
        "    temp_x['time'] = temp_x['time'].apply(lambda x:int(x*100)/100)\n",
        "    \n",
        "    \n",
        "    temp_y = pd.read_csv(f\"{path}/TrainingData/{file}__y.csv\",names=[\"label\"])\n",
        "    temp_yt = pd.read_csv(f\"{path}/TrainingData/{file}__y_time.csv\",names=[\"time\"])\n",
        "    temp_y['time'] = temp_yt['time']\n",
        "    \n",
        "    df_xy = pd.merge(temp_x,temp_y,on='time', how='outer')\n",
        "    df_xy['label']= df_xy['label'].interpolate(method='pad')\n",
        "    df_xy = df_xy.loc[df_xy['time']!=0]\n",
        "    df = df_xy.loc[df_xy['accr_x']!='accr_x']\n",
        "    main_df = main_df.append(df)"
      ],
      "metadata": {
        "id": "Odsc9aSL6n_Q"
      },
      "execution_count": null,
      "outputs": []
    },
    {
      "cell_type": "code",
      "source": [
        "y = main_df['label']\n",
        "x = main_df.drop('label',axis=1)\n",
        "x = x.drop('time', axis=1)"
      ],
      "metadata": {
        "id": "_5qJW0pZ6zxL"
      },
      "execution_count": null,
      "outputs": []
    },
    {
      "cell_type": "markdown",
      "source": [
        "One hot encoding for labels"
      ],
      "metadata": {
        "id": "LUTzVNieJ3DL"
      }
    },
    {
      "cell_type": "code",
      "source": [
        "y_encode = to_categorical(y,4).reshape(-1,4)\n",
        "df_y = pd.DataFrame(y_encode, columns = ['label1','lable2','lable3','lable4'])"
      ],
      "metadata": {
        "id": "w40ydUAn69E2"
      },
      "execution_count": null,
      "outputs": []
    },
    {
      "cell_type": "code",
      "source": [
        "df_y"
      ],
      "metadata": {
        "colab": {
          "base_uri": "https://localhost:8080/",
          "height": 423
        },
        "id": "enyddv0G-jJo",
        "outputId": "7e770b34-1309-4bc9-d91c-0a171995dd08"
      },
      "execution_count": null,
      "outputs": [
        {
          "output_type": "execute_result",
          "data": {
            "text/plain": [
              "         label1  lable2  lable3  lable4\n",
              "0           1.0     0.0     0.0     0.0\n",
              "1           1.0     0.0     0.0     0.0\n",
              "2           1.0     0.0     0.0     0.0\n",
              "3           1.0     0.0     0.0     0.0\n",
              "4           1.0     0.0     0.0     0.0\n",
              "...         ...     ...     ...     ...\n",
              "1341612     1.0     0.0     0.0     0.0\n",
              "1341613     1.0     0.0     0.0     0.0\n",
              "1341614     1.0     0.0     0.0     0.0\n",
              "1341615     1.0     0.0     0.0     0.0\n",
              "1341616     1.0     0.0     0.0     0.0\n",
              "\n",
              "[1341617 rows x 4 columns]"
            ],
            "text/html": [
              "\n",
              "  <div id=\"df-19c4ff4c-3488-423e-8489-24a238eafa38\">\n",
              "    <div class=\"colab-df-container\">\n",
              "      <div>\n",
              "<style scoped>\n",
              "    .dataframe tbody tr th:only-of-type {\n",
              "        vertical-align: middle;\n",
              "    }\n",
              "\n",
              "    .dataframe tbody tr th {\n",
              "        vertical-align: top;\n",
              "    }\n",
              "\n",
              "    .dataframe thead th {\n",
              "        text-align: right;\n",
              "    }\n",
              "</style>\n",
              "<table border=\"1\" class=\"dataframe\">\n",
              "  <thead>\n",
              "    <tr style=\"text-align: right;\">\n",
              "      <th></th>\n",
              "      <th>label1</th>\n",
              "      <th>lable2</th>\n",
              "      <th>lable3</th>\n",
              "      <th>lable4</th>\n",
              "    </tr>\n",
              "  </thead>\n",
              "  <tbody>\n",
              "    <tr>\n",
              "      <th>0</th>\n",
              "      <td>1.0</td>\n",
              "      <td>0.0</td>\n",
              "      <td>0.0</td>\n",
              "      <td>0.0</td>\n",
              "    </tr>\n",
              "    <tr>\n",
              "      <th>1</th>\n",
              "      <td>1.0</td>\n",
              "      <td>0.0</td>\n",
              "      <td>0.0</td>\n",
              "      <td>0.0</td>\n",
              "    </tr>\n",
              "    <tr>\n",
              "      <th>2</th>\n",
              "      <td>1.0</td>\n",
              "      <td>0.0</td>\n",
              "      <td>0.0</td>\n",
              "      <td>0.0</td>\n",
              "    </tr>\n",
              "    <tr>\n",
              "      <th>3</th>\n",
              "      <td>1.0</td>\n",
              "      <td>0.0</td>\n",
              "      <td>0.0</td>\n",
              "      <td>0.0</td>\n",
              "    </tr>\n",
              "    <tr>\n",
              "      <th>4</th>\n",
              "      <td>1.0</td>\n",
              "      <td>0.0</td>\n",
              "      <td>0.0</td>\n",
              "      <td>0.0</td>\n",
              "    </tr>\n",
              "    <tr>\n",
              "      <th>...</th>\n",
              "      <td>...</td>\n",
              "      <td>...</td>\n",
              "      <td>...</td>\n",
              "      <td>...</td>\n",
              "    </tr>\n",
              "    <tr>\n",
              "      <th>1341612</th>\n",
              "      <td>1.0</td>\n",
              "      <td>0.0</td>\n",
              "      <td>0.0</td>\n",
              "      <td>0.0</td>\n",
              "    </tr>\n",
              "    <tr>\n",
              "      <th>1341613</th>\n",
              "      <td>1.0</td>\n",
              "      <td>0.0</td>\n",
              "      <td>0.0</td>\n",
              "      <td>0.0</td>\n",
              "    </tr>\n",
              "    <tr>\n",
              "      <th>1341614</th>\n",
              "      <td>1.0</td>\n",
              "      <td>0.0</td>\n",
              "      <td>0.0</td>\n",
              "      <td>0.0</td>\n",
              "    </tr>\n",
              "    <tr>\n",
              "      <th>1341615</th>\n",
              "      <td>1.0</td>\n",
              "      <td>0.0</td>\n",
              "      <td>0.0</td>\n",
              "      <td>0.0</td>\n",
              "    </tr>\n",
              "    <tr>\n",
              "      <th>1341616</th>\n",
              "      <td>1.0</td>\n",
              "      <td>0.0</td>\n",
              "      <td>0.0</td>\n",
              "      <td>0.0</td>\n",
              "    </tr>\n",
              "  </tbody>\n",
              "</table>\n",
              "<p>1341617 rows × 4 columns</p>\n",
              "</div>\n",
              "      <button class=\"colab-df-convert\" onclick=\"convertToInteractive('df-19c4ff4c-3488-423e-8489-24a238eafa38')\"\n",
              "              title=\"Convert this dataframe to an interactive table.\"\n",
              "              style=\"display:none;\">\n",
              "        \n",
              "  <svg xmlns=\"http://www.w3.org/2000/svg\" height=\"24px\"viewBox=\"0 0 24 24\"\n",
              "       width=\"24px\">\n",
              "    <path d=\"M0 0h24v24H0V0z\" fill=\"none\"/>\n",
              "    <path d=\"M18.56 5.44l.94 2.06.94-2.06 2.06-.94-2.06-.94-.94-2.06-.94 2.06-2.06.94zm-11 1L8.5 8.5l.94-2.06 2.06-.94-2.06-.94L8.5 2.5l-.94 2.06-2.06.94zm10 10l.94 2.06.94-2.06 2.06-.94-2.06-.94-.94-2.06-.94 2.06-2.06.94z\"/><path d=\"M17.41 7.96l-1.37-1.37c-.4-.4-.92-.59-1.43-.59-.52 0-1.04.2-1.43.59L10.3 9.45l-7.72 7.72c-.78.78-.78 2.05 0 2.83L4 21.41c.39.39.9.59 1.41.59.51 0 1.02-.2 1.41-.59l7.78-7.78 2.81-2.81c.8-.78.8-2.07 0-2.86zM5.41 20L4 18.59l7.72-7.72 1.47 1.35L5.41 20z\"/>\n",
              "  </svg>\n",
              "      </button>\n",
              "      \n",
              "  <style>\n",
              "    .colab-df-container {\n",
              "      display:flex;\n",
              "      flex-wrap:wrap;\n",
              "      gap: 12px;\n",
              "    }\n",
              "\n",
              "    .colab-df-convert {\n",
              "      background-color: #E8F0FE;\n",
              "      border: none;\n",
              "      border-radius: 50%;\n",
              "      cursor: pointer;\n",
              "      display: none;\n",
              "      fill: #1967D2;\n",
              "      height: 32px;\n",
              "      padding: 0 0 0 0;\n",
              "      width: 32px;\n",
              "    }\n",
              "\n",
              "    .colab-df-convert:hover {\n",
              "      background-color: #E2EBFA;\n",
              "      box-shadow: 0px 1px 2px rgba(60, 64, 67, 0.3), 0px 1px 3px 1px rgba(60, 64, 67, 0.15);\n",
              "      fill: #174EA6;\n",
              "    }\n",
              "\n",
              "    [theme=dark] .colab-df-convert {\n",
              "      background-color: #3B4455;\n",
              "      fill: #D2E3FC;\n",
              "    }\n",
              "\n",
              "    [theme=dark] .colab-df-convert:hover {\n",
              "      background-color: #434B5C;\n",
              "      box-shadow: 0px 1px 3px 1px rgba(0, 0, 0, 0.15);\n",
              "      filter: drop-shadow(0px 1px 2px rgba(0, 0, 0, 0.3));\n",
              "      fill: #FFFFFF;\n",
              "    }\n",
              "  </style>\n",
              "\n",
              "      <script>\n",
              "        const buttonEl =\n",
              "          document.querySelector('#df-19c4ff4c-3488-423e-8489-24a238eafa38 button.colab-df-convert');\n",
              "        buttonEl.style.display =\n",
              "          google.colab.kernel.accessAllowed ? 'block' : 'none';\n",
              "\n",
              "        async function convertToInteractive(key) {\n",
              "          const element = document.querySelector('#df-19c4ff4c-3488-423e-8489-24a238eafa38');\n",
              "          const dataTable =\n",
              "            await google.colab.kernel.invokeFunction('convertToInteractive',\n",
              "                                                     [key], {});\n",
              "          if (!dataTable) return;\n",
              "\n",
              "          const docLinkHtml = 'Like what you see? Visit the ' +\n",
              "            '<a target=\"_blank\" href=https://colab.research.google.com/notebooks/data_table.ipynb>data table notebook</a>'\n",
              "            + ' to learn more about interactive tables.';\n",
              "          element.innerHTML = '';\n",
              "          dataTable['output_type'] = 'display_data';\n",
              "          await google.colab.output.renderOutput(dataTable, element);\n",
              "          const docLink = document.createElement('div');\n",
              "          docLink.innerHTML = docLinkHtml;\n",
              "          element.appendChild(docLink);\n",
              "        }\n",
              "      </script>\n",
              "    </div>\n",
              "  </div>\n",
              "  "
            ]
          },
          "metadata": {},
          "execution_count": 9
        }
      ]
    },
    {
      "cell_type": "code",
      "source": [
        "df_x"
      ],
      "metadata": {
        "colab": {
          "base_uri": "https://localhost:8080/",
          "height": 423
        },
        "id": "VUUJ_mWUIJjf",
        "outputId": "622d71f6-dacb-413a-f1be-4b57591c561e"
      },
      "execution_count": null,
      "outputs": [
        {
          "output_type": "execute_result",
          "data": {
            "text/plain": [
              "               ax        ay        az        gx        gy        gz\n",
              "0        0.620543  0.045290 -0.567099  0.000351 -0.018272  0.083457\n",
              "1        0.682938  0.054657 -0.570337  0.001033 -0.001082  0.089309\n",
              "2        0.736081  0.055088 -0.568419  0.007191 -0.022229  0.069323\n",
              "3        0.676755  0.012346 -0.577995  0.005263 -0.044493  0.060374\n",
              "4        0.627449  0.034983 -0.577198  0.002453 -0.015124  0.065937\n",
              "...           ...       ...       ...       ...       ...       ...\n",
              "1341612  0.251684  0.127635 -1.716335 -0.001023 -0.014647  0.089143\n",
              "1341613  0.253931  0.128546 -1.719921 -0.000847 -0.016142  0.087803\n",
              "1341614  0.253695  0.127799 -1.723325 -0.002069 -0.018029  0.089157\n",
              "1341615  0.258522  0.127588 -1.722741 -0.001386 -0.016478  0.090215\n",
              "1341616  0.254385  0.126340 -1.719718 -0.001427 -0.016218  0.087803\n",
              "\n",
              "[1341617 rows x 6 columns]"
            ],
            "text/html": [
              "\n",
              "  <div id=\"df-09c715de-463d-4779-b1cf-9d1c7497a762\">\n",
              "    <div class=\"colab-df-container\">\n",
              "      <div>\n",
              "<style scoped>\n",
              "    .dataframe tbody tr th:only-of-type {\n",
              "        vertical-align: middle;\n",
              "    }\n",
              "\n",
              "    .dataframe tbody tr th {\n",
              "        vertical-align: top;\n",
              "    }\n",
              "\n",
              "    .dataframe thead th {\n",
              "        text-align: right;\n",
              "    }\n",
              "</style>\n",
              "<table border=\"1\" class=\"dataframe\">\n",
              "  <thead>\n",
              "    <tr style=\"text-align: right;\">\n",
              "      <th></th>\n",
              "      <th>ax</th>\n",
              "      <th>ay</th>\n",
              "      <th>az</th>\n",
              "      <th>gx</th>\n",
              "      <th>gy</th>\n",
              "      <th>gz</th>\n",
              "    </tr>\n",
              "  </thead>\n",
              "  <tbody>\n",
              "    <tr>\n",
              "      <th>0</th>\n",
              "      <td>0.620543</td>\n",
              "      <td>0.045290</td>\n",
              "      <td>-0.567099</td>\n",
              "      <td>0.000351</td>\n",
              "      <td>-0.018272</td>\n",
              "      <td>0.083457</td>\n",
              "    </tr>\n",
              "    <tr>\n",
              "      <th>1</th>\n",
              "      <td>0.682938</td>\n",
              "      <td>0.054657</td>\n",
              "      <td>-0.570337</td>\n",
              "      <td>0.001033</td>\n",
              "      <td>-0.001082</td>\n",
              "      <td>0.089309</td>\n",
              "    </tr>\n",
              "    <tr>\n",
              "      <th>2</th>\n",
              "      <td>0.736081</td>\n",
              "      <td>0.055088</td>\n",
              "      <td>-0.568419</td>\n",
              "      <td>0.007191</td>\n",
              "      <td>-0.022229</td>\n",
              "      <td>0.069323</td>\n",
              "    </tr>\n",
              "    <tr>\n",
              "      <th>3</th>\n",
              "      <td>0.676755</td>\n",
              "      <td>0.012346</td>\n",
              "      <td>-0.577995</td>\n",
              "      <td>0.005263</td>\n",
              "      <td>-0.044493</td>\n",
              "      <td>0.060374</td>\n",
              "    </tr>\n",
              "    <tr>\n",
              "      <th>4</th>\n",
              "      <td>0.627449</td>\n",
              "      <td>0.034983</td>\n",
              "      <td>-0.577198</td>\n",
              "      <td>0.002453</td>\n",
              "      <td>-0.015124</td>\n",
              "      <td>0.065937</td>\n",
              "    </tr>\n",
              "    <tr>\n",
              "      <th>...</th>\n",
              "      <td>...</td>\n",
              "      <td>...</td>\n",
              "      <td>...</td>\n",
              "      <td>...</td>\n",
              "      <td>...</td>\n",
              "      <td>...</td>\n",
              "    </tr>\n",
              "    <tr>\n",
              "      <th>1341612</th>\n",
              "      <td>0.251684</td>\n",
              "      <td>0.127635</td>\n",
              "      <td>-1.716335</td>\n",
              "      <td>-0.001023</td>\n",
              "      <td>-0.014647</td>\n",
              "      <td>0.089143</td>\n",
              "    </tr>\n",
              "    <tr>\n",
              "      <th>1341613</th>\n",
              "      <td>0.253931</td>\n",
              "      <td>0.128546</td>\n",
              "      <td>-1.719921</td>\n",
              "      <td>-0.000847</td>\n",
              "      <td>-0.016142</td>\n",
              "      <td>0.087803</td>\n",
              "    </tr>\n",
              "    <tr>\n",
              "      <th>1341614</th>\n",
              "      <td>0.253695</td>\n",
              "      <td>0.127799</td>\n",
              "      <td>-1.723325</td>\n",
              "      <td>-0.002069</td>\n",
              "      <td>-0.018029</td>\n",
              "      <td>0.089157</td>\n",
              "    </tr>\n",
              "    <tr>\n",
              "      <th>1341615</th>\n",
              "      <td>0.258522</td>\n",
              "      <td>0.127588</td>\n",
              "      <td>-1.722741</td>\n",
              "      <td>-0.001386</td>\n",
              "      <td>-0.016478</td>\n",
              "      <td>0.090215</td>\n",
              "    </tr>\n",
              "    <tr>\n",
              "      <th>1341616</th>\n",
              "      <td>0.254385</td>\n",
              "      <td>0.126340</td>\n",
              "      <td>-1.719718</td>\n",
              "      <td>-0.001427</td>\n",
              "      <td>-0.016218</td>\n",
              "      <td>0.087803</td>\n",
              "    </tr>\n",
              "  </tbody>\n",
              "</table>\n",
              "<p>1341617 rows × 6 columns</p>\n",
              "</div>\n",
              "      <button class=\"colab-df-convert\" onclick=\"convertToInteractive('df-09c715de-463d-4779-b1cf-9d1c7497a762')\"\n",
              "              title=\"Convert this dataframe to an interactive table.\"\n",
              "              style=\"display:none;\">\n",
              "        \n",
              "  <svg xmlns=\"http://www.w3.org/2000/svg\" height=\"24px\"viewBox=\"0 0 24 24\"\n",
              "       width=\"24px\">\n",
              "    <path d=\"M0 0h24v24H0V0z\" fill=\"none\"/>\n",
              "    <path d=\"M18.56 5.44l.94 2.06.94-2.06 2.06-.94-2.06-.94-.94-2.06-.94 2.06-2.06.94zm-11 1L8.5 8.5l.94-2.06 2.06-.94-2.06-.94L8.5 2.5l-.94 2.06-2.06.94zm10 10l.94 2.06.94-2.06 2.06-.94-2.06-.94-.94-2.06-.94 2.06-2.06.94z\"/><path d=\"M17.41 7.96l-1.37-1.37c-.4-.4-.92-.59-1.43-.59-.52 0-1.04.2-1.43.59L10.3 9.45l-7.72 7.72c-.78.78-.78 2.05 0 2.83L4 21.41c.39.39.9.59 1.41.59.51 0 1.02-.2 1.41-.59l7.78-7.78 2.81-2.81c.8-.78.8-2.07 0-2.86zM5.41 20L4 18.59l7.72-7.72 1.47 1.35L5.41 20z\"/>\n",
              "  </svg>\n",
              "      </button>\n",
              "      \n",
              "  <style>\n",
              "    .colab-df-container {\n",
              "      display:flex;\n",
              "      flex-wrap:wrap;\n",
              "      gap: 12px;\n",
              "    }\n",
              "\n",
              "    .colab-df-convert {\n",
              "      background-color: #E8F0FE;\n",
              "      border: none;\n",
              "      border-radius: 50%;\n",
              "      cursor: pointer;\n",
              "      display: none;\n",
              "      fill: #1967D2;\n",
              "      height: 32px;\n",
              "      padding: 0 0 0 0;\n",
              "      width: 32px;\n",
              "    }\n",
              "\n",
              "    .colab-df-convert:hover {\n",
              "      background-color: #E2EBFA;\n",
              "      box-shadow: 0px 1px 2px rgba(60, 64, 67, 0.3), 0px 1px 3px 1px rgba(60, 64, 67, 0.15);\n",
              "      fill: #174EA6;\n",
              "    }\n",
              "\n",
              "    [theme=dark] .colab-df-convert {\n",
              "      background-color: #3B4455;\n",
              "      fill: #D2E3FC;\n",
              "    }\n",
              "\n",
              "    [theme=dark] .colab-df-convert:hover {\n",
              "      background-color: #434B5C;\n",
              "      box-shadow: 0px 1px 3px 1px rgba(0, 0, 0, 0.15);\n",
              "      filter: drop-shadow(0px 1px 2px rgba(0, 0, 0, 0.3));\n",
              "      fill: #FFFFFF;\n",
              "    }\n",
              "  </style>\n",
              "\n",
              "      <script>\n",
              "        const buttonEl =\n",
              "          document.querySelector('#df-09c715de-463d-4779-b1cf-9d1c7497a762 button.colab-df-convert');\n",
              "        buttonEl.style.display =\n",
              "          google.colab.kernel.accessAllowed ? 'block' : 'none';\n",
              "\n",
              "        async function convertToInteractive(key) {\n",
              "          const element = document.querySelector('#df-09c715de-463d-4779-b1cf-9d1c7497a762');\n",
              "          const dataTable =\n",
              "            await google.colab.kernel.invokeFunction('convertToInteractive',\n",
              "                                                     [key], {});\n",
              "          if (!dataTable) return;\n",
              "\n",
              "          const docLinkHtml = 'Like what you see? Visit the ' +\n",
              "            '<a target=\"_blank\" href=https://colab.research.google.com/notebooks/data_table.ipynb>data table notebook</a>'\n",
              "            + ' to learn more about interactive tables.';\n",
              "          element.innerHTML = '';\n",
              "          dataTable['output_type'] = 'display_data';\n",
              "          await google.colab.output.renderOutput(dataTable, element);\n",
              "          const docLink = document.createElement('div');\n",
              "          docLink.innerHTML = docLinkHtml;\n",
              "          element.appendChild(docLink);\n",
              "        }\n",
              "      </script>\n",
              "    </div>\n",
              "  </div>\n",
              "  "
            ]
          },
          "metadata": {},
          "execution_count": 38
        }
      ]
    },
    {
      "cell_type": "markdown",
      "source": [
        "Standardize the data"
      ],
      "metadata": {
        "id": "Hb2T-l66KxQh"
      }
    },
    {
      "cell_type": "code",
      "source": [
        "scaler = StandardScaler()\n",
        "x_scale = scaler.fit_transform(x)"
      ],
      "metadata": {
        "id": "0Ms_ZeBs7R62"
      },
      "execution_count": null,
      "outputs": []
    },
    {
      "cell_type": "code",
      "source": [
        "df_x = pd.DataFrame(x_scale, columns = ['ax','ay','az','gx','gy','gz'])\n",
        "print(df_x)"
      ],
      "metadata": {
        "colab": {
          "base_uri": "https://localhost:8080/"
        },
        "id": "LSmJTfdC7Xf5",
        "outputId": "04b799df-fbad-4df2-d259-827cc3f7949c"
      },
      "execution_count": null,
      "outputs": [
        {
          "output_type": "stream",
          "name": "stdout",
          "text": [
            "               ax        ay        az        gx        gy        gz\n",
            "0        0.620543  0.045290 -0.567099  0.000351 -0.018272  0.083457\n",
            "1        0.682938  0.054657 -0.570337  0.001033 -0.001082  0.089309\n",
            "2        0.736081  0.055088 -0.568419  0.007191 -0.022229  0.069323\n",
            "3        0.676755  0.012346 -0.577995  0.005263 -0.044493  0.060374\n",
            "4        0.627449  0.034983 -0.577198  0.002453 -0.015124  0.065937\n",
            "...           ...       ...       ...       ...       ...       ...\n",
            "1341612  0.251684  0.127635 -1.716335 -0.001023 -0.014647  0.089143\n",
            "1341613  0.253931  0.128546 -1.719921 -0.000847 -0.016142  0.087803\n",
            "1341614  0.253695  0.127799 -1.723325 -0.002069 -0.018029  0.089157\n",
            "1341615  0.258522  0.127588 -1.722741 -0.001386 -0.016478  0.090215\n",
            "1341616  0.254385  0.126340 -1.719718 -0.001427 -0.016218  0.087803\n",
            "\n",
            "[1341617 rows x 6 columns]\n"
          ]
        }
      ]
    },
    {
      "cell_type": "markdown",
      "source": [
        "Performing windowing technique on train data."
      ],
      "metadata": {
        "id": "rxkya0yeLL30"
      }
    },
    {
      "cell_type": "code",
      "source": [
        "def apply_windows(df_x, df_y, window_size=120):\n",
        "  x_window, y_window=[],[]\n",
        "  for i in range(0, len(df_x)-window_size, window_size+1):\n",
        "    x_window.append([df_x.values[i:i+window_size]])\n",
        "    y_window.append([df_y.values[i:i+window_size]])\n",
        "  x_window=np.array(x_window).reshape(-1,window_size,6)\n",
        "  y_window=np.array(y_window).reshape(-1,window_size,4)\n",
        "\n",
        "  return x_window, y_window"
      ],
      "metadata": {
        "id": "NUvUU_e48MMW"
      },
      "execution_count": null,
      "outputs": []
    },
    {
      "cell_type": "code",
      "source": [
        "wsize = 80\n",
        "x, y = apply_windows(df_x, df_y, wsize)\n",
        "print(x.shape, y.shape)"
      ],
      "metadata": {
        "colab": {
          "base_uri": "https://localhost:8080/"
        },
        "id": "GjnPtEx18QFw",
        "outputId": "f27bb1db-bbf3-4d79-fe03-d70e2f10247d"
      },
      "execution_count": null,
      "outputs": [
        {
          "output_type": "stream",
          "name": "stdout",
          "text": [
            "(16563, 80, 6) (16563, 80, 4)\n"
          ]
        }
      ]
    },
    {
      "cell_type": "markdown",
      "source": [
        "Split the data into training and validation set."
      ],
      "metadata": {
        "id": "3r6xz0KjMdPH"
      }
    },
    {
      "cell_type": "code",
      "source": [
        "x_train, x_val, y_train, y_val = train_test_split(x, y, test_size=0.1,random_state=42)\n",
        "\n",
        "print(len(x_train), len(x_val))\n",
        "print(len(y_train), len(y_val))"
      ],
      "metadata": {
        "colab": {
          "base_uri": "https://localhost:8080/"
        },
        "id": "7FD6WpSm8UP8",
        "outputId": "9fc51251-cafe-45c9-ed71-67c1707e0e52"
      },
      "execution_count": null,
      "outputs": [
        {
          "output_type": "stream",
          "name": "stdout",
          "text": [
            "14906 1657\n",
            "14906 1657\n"
          ]
        }
      ]
    },
    {
      "cell_type": "code",
      "source": [
        "def generate_model_CNN():\n",
        "  model = Sequential()\n",
        "  model.add(Conv1D(32, kernel_size=3, activation='relu', padding='same', input_shape=(80,6)))\n",
        "  model.add(AveragePooling1D(2))\n",
        "  model.add(Dropout(0.2))\n",
        "\n",
        "  model.add(Conv1D(64, kernel_size=3, activation='relu', padding='same'))\n",
        "  model.add(AveragePooling1D(2))\n",
        "  model.add(Dropout(0.2))\n",
        "\n",
        "  model.add(Conv1D(64, kernel_size=3, activation='relu', padding='same'))\n",
        "  model.add(UpSampling1D(size=2))\n",
        "  model.add(Dropout(0.2))\n",
        "\n",
        "  model.add(Conv1D(32, kernel_size=3, activation='relu', padding='same'))\n",
        "  model.add(UpSampling1D(size=2))\n",
        "  model.add(Dropout(0.2))\n",
        "\n",
        "  model.add(Conv1D(4, kernel_size=3, activation='relu', padding='same'))\n",
        "  opt = SGD(lr=0.001, momentum=0.9)\n",
        "  model.compile(optimizer=Adam(learning_rate=0.001),  loss='categorical_crossentropy', metrics = ['accuracy'])\n",
        "  return model"
      ],
      "metadata": {
        "id": "zehUtOvE8ad1"
      },
      "execution_count": null,
      "outputs": []
    },
    {
      "cell_type": "code",
      "source": [
        "with tpu_strategy.scope(): # creating the model in the TPUStrategy scope means we will train the model on the TPU\n",
        "  cnn_model = generate_model_CNN()\n",
        "cnn_model.summary()"
      ],
      "metadata": {
        "colab": {
          "base_uri": "https://localhost:8080/"
        },
        "id": "qTAoWFot8bA_",
        "outputId": "bf701653-2aee-433c-d0a0-a6fe1e2c8ce3"
      },
      "execution_count": null,
      "outputs": [
        {
          "output_type": "stream",
          "name": "stdout",
          "text": [
            "Model: \"sequential_1\"\n",
            "_________________________________________________________________\n",
            " Layer (type)                Output Shape              Param #   \n",
            "=================================================================\n",
            " conv1d (Conv1D)             (None, 80, 32)            608       \n",
            "                                                                 \n",
            " average_pooling1d (AverageP  (None, 40, 32)           0         \n",
            " ooling1D)                                                       \n",
            "                                                                 \n",
            " dropout_2 (Dropout)         (None, 40, 32)            0         \n",
            "                                                                 \n",
            " conv1d_1 (Conv1D)           (None, 40, 64)            6208      \n",
            "                                                                 \n",
            " average_pooling1d_1 (Averag  (None, 20, 64)           0         \n",
            " ePooling1D)                                                     \n",
            "                                                                 \n",
            " dropout_3 (Dropout)         (None, 20, 64)            0         \n",
            "                                                                 \n",
            " conv1d_2 (Conv1D)           (None, 20, 64)            12352     \n",
            "                                                                 \n",
            " up_sampling1d (UpSampling1D  (None, 40, 64)           0         \n",
            " )                                                               \n",
            "                                                                 \n",
            " dropout_4 (Dropout)         (None, 40, 64)            0         \n",
            "                                                                 \n",
            " conv1d_3 (Conv1D)           (None, 40, 32)            6176      \n",
            "                                                                 \n",
            " up_sampling1d_1 (UpSampling  (None, 80, 32)           0         \n",
            " 1D)                                                             \n",
            "                                                                 \n",
            " dropout_5 (Dropout)         (None, 80, 32)            0         \n",
            "                                                                 \n",
            " conv1d_4 (Conv1D)           (None, 80, 4)             388       \n",
            "                                                                 \n",
            "=================================================================\n",
            "Total params: 25,732\n",
            "Trainable params: 25,732\n",
            "Non-trainable params: 0\n",
            "_________________________________________________________________\n"
          ]
        }
      ]
    },
    {
      "cell_type": "code",
      "source": [
        "history_cnn= cnn_model.fit(x_train, y_train, epochs=40, verbose=1, validation_data=(x_val, y_val))"
      ],
      "metadata": {
        "colab": {
          "base_uri": "https://localhost:8080/"
        },
        "id": "R4JYz9ez9o3o",
        "outputId": "0e2c08e3-9ebd-4f6a-e1be-1c97fdea861f"
      },
      "execution_count": null,
      "outputs": [
        {
          "output_type": "stream",
          "name": "stdout",
          "text": [
            "Epoch 1/40\n",
            "466/466 [==============================] - 15s 21ms/step - loss: nan - accuracy: 0.7420 - val_loss: 0.6777 - val_accuracy: 0.7631\n",
            "Epoch 2/40\n",
            "466/466 [==============================] - 9s 20ms/step - loss: 0.7220 - accuracy: 0.7516 - val_loss: 0.6203 - val_accuracy: 0.7733\n",
            "Epoch 3/40\n",
            "466/466 [==============================] - 8s 17ms/step - loss: 0.7705 - accuracy: 0.7484 - val_loss: 0.6597 - val_accuracy: 0.7702\n",
            "Epoch 4/40\n",
            "466/466 [==============================] - 11s 24ms/step - loss: 0.6765 - accuracy: 0.7606 - val_loss: 0.5975 - val_accuracy: 0.7847\n",
            "Epoch 5/40\n",
            "466/466 [==============================] - 8s 18ms/step - loss: 0.6905 - accuracy: 0.7595 - val_loss: 0.6191 - val_accuracy: 0.7793\n",
            "Epoch 6/40\n",
            "466/466 [==============================] - 8s 17ms/step - loss: 0.6478 - accuracy: 0.7651 - val_loss: 0.5764 - val_accuracy: 0.7900\n",
            "Epoch 7/40\n",
            "466/466 [==============================] - 8s 18ms/step - loss: 0.6200 - accuracy: 0.7744 - val_loss: 0.5562 - val_accuracy: 0.7957\n",
            "Epoch 8/40\n",
            "466/466 [==============================] - 8s 17ms/step - loss: 0.5961 - accuracy: 0.7840 - val_loss: 0.5192 - val_accuracy: 0.8161\n",
            "Epoch 9/40\n",
            "466/466 [==============================] - 9s 18ms/step - loss: 0.5680 - accuracy: 0.7962 - val_loss: 0.4860 - val_accuracy: 0.8273\n",
            "Epoch 10/40\n",
            "466/466 [==============================] - 8s 17ms/step - loss: 0.5480 - accuracy: 0.8047 - val_loss: 0.4830 - val_accuracy: 0.8313\n",
            "Epoch 11/40\n",
            "466/466 [==============================] - 9s 18ms/step - loss: 0.5251 - accuracy: 0.8108 - val_loss: 0.4515 - val_accuracy: 0.8420\n",
            "Epoch 12/40\n",
            "466/466 [==============================] - 8s 17ms/step - loss: 0.5293 - accuracy: 0.8088 - val_loss: 0.4567 - val_accuracy: 0.8449\n",
            "Epoch 13/40\n",
            "466/466 [==============================] - 9s 19ms/step - loss: 0.5161 - accuracy: 0.8150 - val_loss: 0.4317 - val_accuracy: 0.8496\n",
            "Epoch 14/40\n",
            "466/466 [==============================] - 9s 19ms/step - loss: 0.4921 - accuracy: 0.8228 - val_loss: 0.4066 - val_accuracy: 0.8561\n",
            "Epoch 15/40\n",
            "466/466 [==============================] - 9s 20ms/step - loss: 0.4664 - accuracy: 0.8318 - val_loss: 0.3841 - val_accuracy: 0.8615\n",
            "Epoch 16/40\n",
            "466/466 [==============================] - 9s 18ms/step - loss: 0.4506 - accuracy: 0.8367 - val_loss: 0.3843 - val_accuracy: 0.8651\n",
            "Epoch 17/40\n",
            "466/466 [==============================] - 8s 17ms/step - loss: 0.4426 - accuracy: 0.8395 - val_loss: 0.3854 - val_accuracy: 0.8610\n",
            "Epoch 18/40\n",
            "466/466 [==============================] - 9s 19ms/step - loss: 0.4321 - accuracy: 0.8425 - val_loss: 0.3813 - val_accuracy: 0.8647\n",
            "Epoch 19/40\n",
            "466/466 [==============================] - 8s 17ms/step - loss: 0.4315 - accuracy: 0.8435 - val_loss: 0.3667 - val_accuracy: 0.8746\n",
            "Epoch 20/40\n",
            "466/466 [==============================] - 9s 19ms/step - loss: 0.4219 - accuracy: 0.8469 - val_loss: 0.3404 - val_accuracy: 0.8783\n",
            "Epoch 21/40\n",
            "466/466 [==============================] - 8s 17ms/step - loss: 0.4104 - accuracy: 0.8492 - val_loss: 0.3365 - val_accuracy: 0.8771\n",
            "Epoch 22/40\n",
            "466/466 [==============================] - 9s 18ms/step - loss: 0.3971 - accuracy: 0.8543 - val_loss: 0.3263 - val_accuracy: 0.8802\n",
            "Epoch 23/40\n",
            "466/466 [==============================] - 8s 17ms/step - loss: 0.3937 - accuracy: 0.8560 - val_loss: 0.3205 - val_accuracy: 0.8824\n",
            "Epoch 24/40\n",
            "466/466 [==============================] - 8s 18ms/step - loss: 0.3835 - accuracy: 0.8601 - val_loss: 0.3098 - val_accuracy: 0.8854\n",
            "Epoch 25/40\n",
            "466/466 [==============================] - 8s 17ms/step - loss: 0.3696 - accuracy: 0.8638 - val_loss: 0.3023 - val_accuracy: 0.8889\n",
            "Epoch 26/40\n",
            "466/466 [==============================] - 9s 20ms/step - loss: 0.3713 - accuracy: 0.8642 - val_loss: 0.3811 - val_accuracy: 0.8715\n",
            "Epoch 27/40\n",
            "466/466 [==============================] - 14s 30ms/step - loss: 0.3752 - accuracy: 0.8634 - val_loss: 0.3046 - val_accuracy: 0.8891\n",
            "Epoch 28/40\n",
            "466/466 [==============================] - 8s 18ms/step - loss: 0.3563 - accuracy: 0.8693 - val_loss: 0.2922 - val_accuracy: 0.8945\n",
            "Epoch 29/40\n",
            "466/466 [==============================] - 9s 19ms/step - loss: 0.3572 - accuracy: 0.8683 - val_loss: 0.3004 - val_accuracy: 0.8906\n",
            "Epoch 30/40\n",
            "466/466 [==============================] - 9s 20ms/step - loss: 0.3489 - accuracy: 0.8713 - val_loss: 0.2794 - val_accuracy: 0.8991\n",
            "Epoch 31/40\n",
            "466/466 [==============================] - 9s 19ms/step - loss: 0.3420 - accuracy: 0.8743 - val_loss: 0.2789 - val_accuracy: 0.8975\n",
            "Epoch 32/40\n",
            "466/466 [==============================] - 9s 19ms/step - loss: 0.3357 - accuracy: 0.8771 - val_loss: 0.2758 - val_accuracy: 0.9020\n",
            "Epoch 33/40\n",
            "466/466 [==============================] - 8s 17ms/step - loss: 0.3420 - accuracy: 0.8744 - val_loss: 0.2780 - val_accuracy: 0.8973\n",
            "Epoch 34/40\n",
            "466/466 [==============================] - 8s 18ms/step - loss: 0.3306 - accuracy: 0.8788 - val_loss: 0.2743 - val_accuracy: 0.8995\n",
            "Epoch 35/40\n",
            "466/466 [==============================] - 9s 19ms/step - loss: 0.3259 - accuracy: 0.8801 - val_loss: 0.2718 - val_accuracy: 0.8997\n",
            "Epoch 36/40\n",
            "466/466 [==============================] - 9s 20ms/step - loss: 0.3332 - accuracy: 0.8774 - val_loss: 0.2661 - val_accuracy: 0.9030\n",
            "Epoch 37/40\n",
            "466/466 [==============================] - 8s 17ms/step - loss: 0.3224 - accuracy: 0.8807 - val_loss: 0.2610 - val_accuracy: 0.9059\n",
            "Epoch 38/40\n",
            "466/466 [==============================] - 8s 18ms/step - loss: 0.3179 - accuracy: 0.8835 - val_loss: 0.2713 - val_accuracy: 0.9020\n",
            "Epoch 39/40\n",
            "466/466 [==============================] - 8s 17ms/step - loss: 0.3135 - accuracy: 0.8856 - val_loss: 0.2616 - val_accuracy: 0.9054\n",
            "Epoch 40/40\n",
            "466/466 [==============================] - 9s 18ms/step - loss: 0.3194 - accuracy: 0.8824 - val_loss: 0.2569 - val_accuracy: 0.9059\n"
          ]
        }
      ]
    },
    {
      "cell_type": "code",
      "source": [
        "def plot_history(history):\n",
        "\t  # plot loss\n",
        "    plt.title('Loss')\n",
        "    plt.plot(history.history['loss'], color='blue', label='train')\n",
        "    plt.plot(history.history['val_loss'], color='red', label='validation')\n",
        "    plt.ylabel('Loss')\n",
        "    plt.xlabel('Epoch')\n",
        "    plt.legend(['Train', 'Validation'])\n",
        "    plt.show()\n",
        "    \n",
        "    # plot accuracy\n",
        "    plt.title('Accuracy')\n",
        "    plt.plot(history.history['accuracy'], color='blue', label='train')\n",
        "    plt.plot(history.history['val_accuracy'], color='red', label='validation')\n",
        "    plt.ylabel('Accuracy')\n",
        "    plt.xlabel('Epoch')\n",
        "    plt.legend(['Train', 'Validation'])\n",
        "    plt.show()"
      ],
      "metadata": {
        "id": "W0_RWteCOf0B"
      },
      "execution_count": null,
      "outputs": []
    },
    {
      "cell_type": "code",
      "source": [
        "def flatten_pred(y_pred):\n",
        "  y_hat=[]\n",
        "  for i in y_pred:\n",
        "    for j in i:\n",
        "      y_hat.append(np.argmax(j))\n",
        "  return y_hat"
      ],
      "metadata": {
        "id": "KHSyiukxOgFd"
      },
      "execution_count": null,
      "outputs": []
    },
    {
      "cell_type": "code",
      "source": [
        "y_val_pred = cnn_model.predict(x_val)\n",
        "y_val_pred_flat = flatten_pred(y_val_pred)\n",
        "y_val_flat = flatten_pred(y_val)\n",
        "print(classification_report(y_val_pred_flat, y_val_flat))"
      ],
      "metadata": {
        "colab": {
          "base_uri": "https://localhost:8080/"
        },
        "id": "L6ZxOFxiOwen",
        "outputId": "3665b12a-df64-4e80-c894-178c581fe47e"
      },
      "execution_count": null,
      "outputs": [
        {
          "output_type": "stream",
          "name": "stdout",
          "text": [
            "52/52 [==============================] - 2s 16ms/step\n",
            "              precision    recall  f1-score   support\n",
            "\n",
            "           0       0.95      0.93      0.94    104145\n",
            "           1       0.94      0.88      0.91      5659\n",
            "           2       0.91      0.93      0.92      7438\n",
            "           3       0.63      0.76      0.69     15318\n",
            "\n",
            "    accuracy                           0.91    132560\n",
            "   macro avg       0.86      0.88      0.87    132560\n",
            "weighted avg       0.91      0.91      0.91    132560\n",
            "\n"
          ]
        }
      ]
    },
    {
      "cell_type": "code",
      "source": [
        "early_stopping = EarlyStopping(monitor='val_loss', patience=5, restore_best_weights=True)\n",
        "reduce_lr = ReduceLROnPlateau(monitor='val_loss', factor=0.5, patience=2)"
      ],
      "metadata": {
        "id": "gXKRMwgrTVQd"
      },
      "execution_count": null,
      "outputs": []
    },
    {
      "cell_type": "code",
      "source": [
        "def generate_model_biLSTM():\n",
        "  model = Sequential()\n",
        "  model.add(Bidirectional(LSTM(90,return_sequences=True, input_shape=(80,6))))\n",
        "  model.add(Dropout(0.2))\n",
        "  model.add(LSTM(40, return_sequences=True, activation=\"relu\"))\n",
        "  model.add(Dropout(0.1))\n",
        "  model.add(Dense(22, activation=\"relu\"))\n",
        "  model.add(Dense(4, activation=\"softmax\"))\n",
        "  model.compile(optimizer=Adam(learning_rate=0.001),  loss='categorical_crossentropy', metrics = ['accuracy'])\n",
        "  return model"
      ],
      "metadata": {
        "id": "MSi05KcVJ8Xd"
      },
      "execution_count": null,
      "outputs": []
    },
    {
      "cell_type": "code",
      "source": [
        "with tpu_strategy.scope(): \n",
        "  bilstm_model=generate_model_biLSTM()"
      ],
      "metadata": {
        "id": "IPD2iGLVM7-Z"
      },
      "execution_count": null,
      "outputs": []
    },
    {
      "cell_type": "code",
      "source": [
        "# 100, 50, 25, factor 0.2\n",
        "# 90, 40, 22, factor 0.5\n",
        "history_bilstm = bilstm_model.fit(x_train, y_train, epochs=25, verbose=1, validation_data=(x_val, y_val), callbacks=[early_stopping, reduce_lr])"
      ],
      "metadata": {
        "colab": {
          "base_uri": "https://localhost:8080/"
        },
        "id": "_wPzg1VTJ_sn",
        "outputId": "e9eeeb69-7394-423f-bd83-0f8fd3c7fff9"
      },
      "execution_count": null,
      "outputs": [
        {
          "output_type": "stream",
          "name": "stdout",
          "text": [
            "Epoch 1/25\n",
            "466/466 [==============================] - 36s 37ms/step - loss: 0.5386 - accuracy: 0.8044 - val_loss: 0.3450 - val_accuracy: 0.8832 - lr: 0.0010\n",
            "Epoch 2/25\n",
            "466/466 [==============================] - 16s 34ms/step - loss: 0.3226 - accuracy: 0.8840 - val_loss: 0.2704 - val_accuracy: 0.9104 - lr: 0.0010\n",
            "Epoch 3/25\n",
            "466/466 [==============================] - 18s 38ms/step - loss: 0.2576 - accuracy: 0.9133 - val_loss: 0.2188 - val_accuracy: 0.9255 - lr: 0.0010\n",
            "Epoch 4/25\n",
            "466/466 [==============================] - 14s 30ms/step - loss: 0.2251 - accuracy: 0.9224 - val_loss: 0.1917 - val_accuracy: 0.9335 - lr: 0.0010\n",
            "Epoch 5/25\n",
            "466/466 [==============================] - 14s 31ms/step - loss: 0.2906 - accuracy: 0.8965 - val_loss: 0.2530 - val_accuracy: 0.9108 - lr: 0.0010\n",
            "Epoch 6/25\n",
            "466/466 [==============================] - 14s 30ms/step - loss: 0.2378 - accuracy: 0.9170 - val_loss: 0.2074 - val_accuracy: 0.9300 - lr: 0.0010\n",
            "Epoch 7/25\n",
            "466/466 [==============================] - 15s 31ms/step - loss: 0.1942 - accuracy: 0.9351 - val_loss: 0.2038 - val_accuracy: 0.9308 - lr: 5.0000e-04\n",
            "Epoch 8/25\n",
            "466/466 [==============================] - 14s 31ms/step - loss: 0.1800 - accuracy: 0.9402 - val_loss: 0.1825 - val_accuracy: 0.9399 - lr: 5.0000e-04\n",
            "Epoch 9/25\n",
            "466/466 [==============================] - 14s 31ms/step - loss: 0.1738 - accuracy: 0.9426 - val_loss: 0.1819 - val_accuracy: 0.9374 - lr: 5.0000e-04\n",
            "Epoch 10/25\n",
            "466/466 [==============================] - 15s 32ms/step - loss: 0.1672 - accuracy: 0.9444 - val_loss: 0.1764 - val_accuracy: 0.9393 - lr: 5.0000e-04\n",
            "Epoch 11/25\n",
            "466/466 [==============================] - 14s 30ms/step - loss: 0.1602 - accuracy: 0.9473 - val_loss: 0.1772 - val_accuracy: 0.9386 - lr: 5.0000e-04\n",
            "Epoch 12/25\n",
            "466/466 [==============================] - 14s 30ms/step - loss: 0.1528 - accuracy: 0.9498 - val_loss: 0.1667 - val_accuracy: 0.9425 - lr: 5.0000e-04\n",
            "Epoch 13/25\n",
            "466/466 [==============================] - 14s 31ms/step - loss: 0.1503 - accuracy: 0.9497 - val_loss: 0.1706 - val_accuracy: 0.9447 - lr: 5.0000e-04\n",
            "Epoch 14/25\n",
            "466/466 [==============================] - 14s 31ms/step - loss: 0.1468 - accuracy: 0.9517 - val_loss: 0.1868 - val_accuracy: 0.9368 - lr: 5.0000e-04\n",
            "Epoch 15/25\n",
            "466/466 [==============================] - 14s 31ms/step - loss: 0.1348 - accuracy: 0.9554 - val_loss: 0.1717 - val_accuracy: 0.9444 - lr: 2.5000e-04\n",
            "Epoch 16/25\n",
            "466/466 [==============================] - 14s 31ms/step - loss: 0.1314 - accuracy: 0.9573 - val_loss: 0.1555 - val_accuracy: 0.9476 - lr: 2.5000e-04\n",
            "Epoch 17/25\n",
            "466/466 [==============================] - 15s 31ms/step - loss: 0.1261 - accuracy: 0.9585 - val_loss: 0.1525 - val_accuracy: 0.9483 - lr: 2.5000e-04\n",
            "Epoch 18/25\n",
            "466/466 [==============================] - 14s 30ms/step - loss: 0.1267 - accuracy: 0.9583 - val_loss: 0.1554 - val_accuracy: 0.9494 - lr: 2.5000e-04\n",
            "Epoch 19/25\n",
            "466/466 [==============================] - 14s 31ms/step - loss: 0.1220 - accuracy: 0.9597 - val_loss: 0.1550 - val_accuracy: 0.9499 - lr: 2.5000e-04\n",
            "Epoch 20/25\n",
            "466/466 [==============================] - 14s 31ms/step - loss: 0.1110 - accuracy: 0.9643 - val_loss: 0.1574 - val_accuracy: 0.9472 - lr: 1.2500e-04\n",
            "Epoch 21/25\n",
            "466/466 [==============================] - 15s 33ms/step - loss: 0.1115 - accuracy: 0.9636 - val_loss: 0.1503 - val_accuracy: 0.9510 - lr: 1.2500e-04\n",
            "Epoch 22/25\n",
            "466/466 [==============================] - 15s 32ms/step - loss: 0.1074 - accuracy: 0.9661 - val_loss: 0.1541 - val_accuracy: 0.9507 - lr: 1.2500e-04\n",
            "Epoch 23/25\n",
            "466/466 [==============================] - 15s 31ms/step - loss: 0.1069 - accuracy: 0.9653 - val_loss: 0.1605 - val_accuracy: 0.9466 - lr: 1.2500e-04\n",
            "Epoch 24/25\n",
            "466/466 [==============================] - 14s 31ms/step - loss: 0.1005 - accuracy: 0.9680 - val_loss: 0.1528 - val_accuracy: 0.9515 - lr: 6.2500e-05\n",
            "Epoch 25/25\n",
            "466/466 [==============================] - 15s 32ms/step - loss: 0.1006 - accuracy: 0.9679 - val_loss: 0.1561 - val_accuracy: 0.9489 - lr: 6.2500e-05\n"
          ]
        }
      ]
    },
    {
      "cell_type": "code",
      "source": [
        "plot_history(history_bilstm)"
      ],
      "metadata": {
        "colab": {
          "base_uri": "https://localhost:8080/",
          "height": 927
        },
        "id": "6yoQRhDgKIgQ",
        "outputId": "29487fe3-b127-410d-f11c-096f18328bb3"
      },
      "execution_count": null,
      "outputs": [
        {
          "output_type": "display_data",
          "data": {
            "text/plain": [
              "<Figure size 640x480 with 1 Axes>"
            ],
            "image/png": "[encoded data removed]"
          },
          "metadata": {}
        },
        {
          "output_type": "display_data",
          "data": {
            "text/plain": [
              "<Figure size 640x480 with 1 Axes>"
            ],
            "image/png": "[encoded data removed]"
          },
          "metadata": {}
        }
      ]
    },
    {
      "cell_type": "code",
      "source": [
        "y_val_pred = bilstm_model.predict(x_val)\n",
        "y_val_pred_flat = flatten_pred(y_val_pred)\n",
        "y_val_flat = flatten_pred(y_val)\n",
        "print(classification_report(y_val_pred_flat, y_val_flat))"
      ],
      "metadata": {
        "colab": {
          "base_uri": "https://localhost:8080/"
        },
        "id": "ELv4q2fd8jPn",
        "outputId": "024fc754-2c9d-439a-c711-87a094c37672"
      },
      "execution_count": null,
      "outputs": [
        {
          "output_type": "stream",
          "name": "stdout",
          "text": [
            "52/52 [==============================] - 3s 17ms/step\n",
            "              precision    recall  f1-score   support\n",
            "\n",
            "           0       0.96      0.97      0.97     99717\n",
            "           1       0.95      0.92      0.93      5506\n",
            "           2       0.94      0.95      0.94      7465\n",
            "           3       0.89      0.83      0.86     19872\n",
            "\n",
            "    accuracy                           0.95    132560\n",
            "   macro avg       0.93      0.92      0.93    132560\n",
            "weighted avg       0.95      0.95      0.95    132560\n",
            "\n"
          ]
        }
      ]
    },
    {
      "cell_type": "markdown",
      "source": [
        "Generate Test files"
      ],
      "metadata": {
        "id": "dyEfVGhvFpVi"
      }
    },
    {
      "cell_type": "code",
      "source": [
        "def define_test_windows(df_x, windowsize=80):\n",
        "  window_x=[]\n",
        "  for i in range(0, len(df_x)-windowsize, windowsize):\n",
        "    window_x.append([df_x.values[i:i+windowsize]])\n",
        "  window_x=np.array(window_x).reshape(-1,windowsize,6)\n",
        "  return window_x"
      ],
      "metadata": {
        "id": "zCIf4RZ1zTMi"
      },
      "execution_count": null,
      "outputs": []
    },
    {
      "cell_type": "code",
      "source": [
        "test_files = sorted(set([x[:14] for x in test_x_files]))\n",
        "for file in test_files:\n",
        "  x = pd.read_csv(f\"{path}/TestData/{file}__x.csv\", names=[\"accr_x\", \"accr_y\",\"accr_z\",\"gyr_x\",\"gyr_y\",\"gyr_z\"])\n",
        "  # x_time = pd.read_csv(f\"{path}/TestData/{file}__x_time.csv\", names = [\"time\"])\n",
        "  x_test_scaled = scaler.transform(x)\n",
        "  x_test = pd.DataFrame(x_test_scaled, columns = ['ax','ay','az','gx','gy','gz'])\n",
        "  x = define_test_windows(x_test, wsize) \n",
        "  y_pred = bilstm_model.predict(x)\n",
        "  y = y_pred.tolist()\n",
        "  yhat = flatten_pred(y)\n",
        "  yhat_df=pd.DataFrame(yhat, columns=['label'])\n",
        "  x = pd.read_csv(f\"{path}/TestData/{file}__x.csv\", names=[\"accr_x\", \"accr_y\",\"accr_z\",\"gyr_x\",\"gyr_y\",\"gyr_z\"])\n",
        "  x_time = pd.read_csv(f\"{path}/TestData/{file}__x_time.csv\", names = [\"time\"])\n",
        "  x['time'] = x_time['time']\n",
        "  x = x.join(yhat_df, how='left')\n",
        "  x['label'] = x['label'].fillna(0)\n",
        "  y_time = pd.read_csv(f\"{path}/TestData/{file}__y_time.csv\", names = [\"time\"])\n",
        "  x['time'] = x['time'].apply(lambda x:int(x*100)/100)\n",
        "  x_final= pd.merge(x, y_time, on='time', how='inner')\n",
        "  x_final['label'].to_csv(f'{file}__y.csv', index=False, header=False)\n",
        "  print(x_final.shape)"
      ],
      "metadata": {
        "id": "L-ARDG-LMEVV"
      },
      "execution_count": null,
      "outputs": []
    }
  ]
}
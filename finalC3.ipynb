{
  "nbformat": 4,
  "nbformat_minor": 0,
  "metadata": {
    "colab": {
      "provenance": []
    },
    "kernelspec": {
      "name": "python3",
      "display_name": "Python 3"
    },
    "language_info": {
      "name": "python"
    },
    "gpuClass": "standard",
    "accelerator": "TPU"
  },
  "cells": [
    {
      "cell_type": "markdown",
      "source": [
        "Connect to a TPU, import the required libraries and connect to the drive"
      ],
      "metadata": {
        "id": "Keb1w1gsEhhJ"
      }
    },
    {
      "cell_type": "code",
      "execution_count": null,
      "metadata": {
        "colab": {
          "base_uri": "https://localhost:8080/"
        },
        "id": "v7Up8qnh5vel",
        "outputId": "1d5cc0fa-ca42-4094-e091-ce009dab02c2"
      },
      "outputs": [
        {
          "output_type": "stream",
          "name": "stdout",
          "text": [
            "Tensorflow version 2.12.0\n",
            "Running on TPU  ['10.69.127.18:8470']\n"
          ]
        }
      ],
      "source": [
        "import tensorflow as tf\n",
        "print(\"Tensorflow version \" + tf.__version__)\n",
        "\n",
        "try:\n",
        "  tpu = tf.distribute.cluster_resolver.TPUClusterResolver()  # TPU detection\n",
        "  print('Running on TPU ', tpu.cluster_spec().as_dict()['worker'])\n",
        "except ValueError:\n",
        "  raise BaseException('ERROR: Not connected to a TPU runtime; please see the previous cell in this notebook for instructions!')\n",
        "\n",
        "tf.config.experimental_connect_to_cluster(tpu)\n",
        "tf.tpu.experimental.initialize_tpu_system(tpu)\n",
        "tpu_strategy = tf.distribute.TPUStrategy(tpu)"
      ]
    },
    {
      "cell_type": "code",
      "source": [
        "from google.colab import drive\n",
        "drive.mount('/content/drive')"
      ],
      "metadata": {
        "colab": {
          "base_uri": "https://localhost:8080/"
        },
        "id": "CUThpNSm54tB",
        "outputId": "0a4c11a3-297a-4fa6-9250-336c1800c95b"
      },
      "execution_count": null,
      "outputs": [
        {
          "output_type": "stream",
          "name": "stdout",
          "text": [
            "Mounted at /content/drive\n"
          ]
        }
      ]
    },
    {
      "cell_type": "code",
      "source": [
        "import glob \n",
        "import pickle\n",
        "import os\n",
        "import re\n",
        "import warnings\n",
        "warnings.filterwarnings('ignore')\n",
        "import numpy as np\n",
        "import pandas as pd\n",
        "import fnmatch\n",
        "import matplotlib.pyplot as plt\n",
        "%matplotlib inline\n",
        "from sklearn.model_selection import train_test_split\n",
        "from sklearn import model_selection\n",
        "from imblearn.over_sampling import SMOTE\n",
        "\n",
        "from sklearn.preprocessing import StandardScaler\n",
        "from sklearn import preprocessing\n",
        "from sklearn.model_selection import cross_val_score\n",
        "from sklearn.metrics import accuracy_score\n",
        "from sklearn.metrics import classification_report, confusion_matrix\n",
        "from keras.models import Sequential\n",
        "from keras.layers import Dense\n",
        "from keras.layers import Flatten, Reshape\n",
        "from keras.utils import to_categorical\n",
        "from keras.layers.convolutional import Conv1D\n",
        "from keras.layers.convolutional import MaxPooling1D\n",
        "from keras.optimizers import SGD, Adam, RMSprop\n",
        "from keras.layers import Dropout, InputLayer, LSTM\n",
        "from keras.layers import Bidirectional, BatchNormalization\n",
        "from keras.layers import TimeDistributed\n",
        "from keras.layers import Conv2D, MaxPooling2D, Flatten, Dense, Activation, BatchNormalization, Dropout, UpSampling1D, AveragePooling1D\n",
        "from keras.callbacks import EarlyStopping, ReduceLROnPlateau"
      ],
      "metadata": {
        "id": "iybjmdIT6DR5"
      },
      "execution_count": null,
      "outputs": []
    },
    {
      "cell_type": "code",
      "source": [
        "path = '/content/drive/MyDrive/ECE542_sp2022_Project_TerrainRecognition'"
      ],
      "metadata": {
        "id": "Z0ERYMKs6UGb"
      },
      "execution_count": null,
      "outputs": []
    },
    {
      "cell_type": "code",
      "source": [
        "trainData = os.listdir(f\"{path}/TrainingData\")[1::]\n",
        "x_time_files = fnmatch.filter(trainData,'*x_time.csv')\n",
        "y_time_files = fnmatch.filter(trainData,'*y_time.csv')\n",
        "x_files = fnmatch.filter(trainData,'*x.csv')\n",
        "y_files = fnmatch.filter(trainData,'*y.csv')\n",
        "\n",
        "#Test Data\n",
        "testData = os.listdir(f\"{path}/TestData\")\n",
        "test_x_time_files = fnmatch.filter(testData,'*x_time.csv')\n",
        "test_y_time_files = fnmatch.filter(testData,'*y_time.csv')\n",
        "test_x_files = fnmatch.filter(testData,'*x.csv')"
      ],
      "metadata": {
        "id": "I5wRUaCp6jZt"
      },
      "execution_count": null,
      "outputs": []
    },
    {
      "cell_type": "markdown",
      "source": [
        "Pre-processing the data and merging"
      ],
      "metadata": {
        "id": "1Ym-GYJeJxZ0"
      }
    },
    {
      "cell_type": "code",
      "source": [
        "main_df = pd.DataFrame()\n",
        "files = sorted(set([x[:14] for x in x_files]))\n",
        "\n",
        "for file in files:\n",
        "    temp_x = pd.read_csv(f\"{path}/TrainingData/{file}__x.csv\", names=[\"accr_x\", \"accr_y\",\"accr_z\",\"gyr_x\",\"gyr_y\",\"gyr_z\"])\n",
        "    temp_xt = pd.read_csv(f\"{path}/TrainingData/{file}__x_time.csv\", names = [\"time\"])\n",
        "    temp_x['time'] = temp_xt['time']\n",
        "    temp_x['time'] = temp_x['time'].apply(lambda x:int(x*100)/100)\n",
        "    \n",
        "    \n",
        "    temp_y = pd.read_csv(f\"{path}/TrainingData/{file}__y.csv\",names=[\"label\"])\n",
        "    temp_yt = pd.read_csv(f\"{path}/TrainingData/{file}__y_time.csv\",names=[\"time\"])\n",
        "    temp_y['time'] = temp_yt['time']\n",
        "    \n",
        "    df_xy = pd.merge(temp_x,temp_y,on='time', how='outer')\n",
        "    df_xy['label']= df_xy['label'].interpolate(method='pad')\n",
        "    df_xy = df_xy.loc[df_xy['time']!=0]\n",
        "    df = df_xy.loc[df_xy['accr_x']!='accr_x']\n",
        "    main_df = main_df.append(df)"
      ],
      "metadata": {
        "id": "Odsc9aSL6n_Q"
      },
      "execution_count": null,
      "outputs": []
    },
    {
      "cell_type": "code",
      "source": [
        "y = main_df['label']\n",
        "x = main_df.drop('label',axis=1)\n",
        "x = x.drop('time', axis=1)"
      ],
      "metadata": {
        "id": "_5qJW0pZ6zxL"
      },
      "execution_count": null,
      "outputs": []
    },
    {
      "cell_type": "markdown",
      "source": [
        "One hot encoding for labels"
      ],
      "metadata": {
        "id": "LUTzVNieJ3DL"
      }
    },
    {
      "cell_type": "code",
      "source": [
        "y_encode = to_categorical(y,4).reshape(-1,4)\n",
        "df_y = pd.DataFrame(y_encode, columns = ['label1','lable2','lable3','lable4'])"
      ],
      "metadata": {
        "id": "w40ydUAn69E2"
      },
      "execution_count": null,
      "outputs": []
    },
    {
      "cell_type": "code",
      "source": [
        "df_y"
      ],
      "metadata": {
        "colab": {
          "base_uri": "https://localhost:8080/",
          "height": 423
        },
        "id": "enyddv0G-jJo",
        "outputId": "6fed6025-4ad8-4aae-89ad-9c3877b4821e"
      },
      "execution_count": null,
      "outputs": [
        {
          "output_type": "execute_result",
          "data": {
            "text/plain": [
              "         label1  lable2  lable3  lable4\n",
              "0           1.0     0.0     0.0     0.0\n",
              "1           1.0     0.0     0.0     0.0\n",
              "2           1.0     0.0     0.0     0.0\n",
              "3           1.0     0.0     0.0     0.0\n",
              "4           1.0     0.0     0.0     0.0\n",
              "...         ...     ...     ...     ...\n",
              "1341612     1.0     0.0     0.0     0.0\n",
              "1341613     1.0     0.0     0.0     0.0\n",
              "1341614     1.0     0.0     0.0     0.0\n",
              "1341615     1.0     0.0     0.0     0.0\n",
              "1341616     1.0     0.0     0.0     0.0\n",
              "\n",
              "[1341617 rows x 4 columns]"
            ],
            "text/html": [
              "\n",
              "  <div id=\"df-a1d8dfe3-102d-47d3-aaed-ac3773b088f8\">\n",
              "    <div class=\"colab-df-container\">\n",
              "      <div>\n",
              "<style scoped>\n",
              "    .dataframe tbody tr th:only-of-type {\n",
              "        vertical-align: middle;\n",
              "    }\n",
              "\n",
              "    .dataframe tbody tr th {\n",
              "        vertical-align: top;\n",
              "    }\n",
              "\n",
              "    .dataframe thead th {\n",
              "        text-align: right;\n",
              "    }\n",
              "</style>\n",
              "<table border=\"1\" class=\"dataframe\">\n",
              "  <thead>\n",
              "    <tr style=\"text-align: right;\">\n",
              "      <th></th>\n",
              "      <th>label1</th>\n",
              "      <th>lable2</th>\n",
              "      <th>lable3</th>\n",
              "      <th>lable4</th>\n",
              "    </tr>\n",
              "  </thead>\n",
              "  <tbody>\n",
              "    <tr>\n",
              "      <th>0</th>\n",
              "      <td>1.0</td>\n",
              "      <td>0.0</td>\n",
              "      <td>0.0</td>\n",
              "      <td>0.0</td>\n",
              "    </tr>\n",
              "    <tr>\n",
              "      <th>1</th>\n",
              "      <td>1.0</td>\n",
              "      <td>0.0</td>\n",
              "      <td>0.0</td>\n",
              "      <td>0.0</td>\n",
              "    </tr>\n",
              "    <tr>\n",
              "      <th>2</th>\n",
              "      <td>1.0</td>\n",
              "      <td>0.0</td>\n",
              "      <td>0.0</td>\n",
              "      <td>0.0</td>\n",
              "    </tr>\n",
              "    <tr>\n",
              "      <th>3</th>\n",
              "      <td>1.0</td>\n",
              "      <td>0.0</td>\n",
              "      <td>0.0</td>\n",
              "      <td>0.0</td>\n",
              "    </tr>\n",
              "    <tr>\n",
              "      <th>4</th>\n",
              "      <td>1.0</td>\n",
              "      <td>0.0</td>\n",
              "      <td>0.0</td>\n",
              "      <td>0.0</td>\n",
              "    </tr>\n",
              "    <tr>\n",
              "      <th>...</th>\n",
              "      <td>...</td>\n",
              "      <td>...</td>\n",
              "      <td>...</td>\n",
              "      <td>...</td>\n",
              "    </tr>\n",
              "    <tr>\n",
              "      <th>1341612</th>\n",
              "      <td>1.0</td>\n",
              "      <td>0.0</td>\n",
              "      <td>0.0</td>\n",
              "      <td>0.0</td>\n",
              "    </tr>\n",
              "    <tr>\n",
              "      <th>1341613</th>\n",
              "      <td>1.0</td>\n",
              "      <td>0.0</td>\n",
              "      <td>0.0</td>\n",
              "      <td>0.0</td>\n",
              "    </tr>\n",
              "    <tr>\n",
              "      <th>1341614</th>\n",
              "      <td>1.0</td>\n",
              "      <td>0.0</td>\n",
              "      <td>0.0</td>\n",
              "      <td>0.0</td>\n",
              "    </tr>\n",
              "    <tr>\n",
              "      <th>1341615</th>\n",
              "      <td>1.0</td>\n",
              "      <td>0.0</td>\n",
              "      <td>0.0</td>\n",
              "      <td>0.0</td>\n",
              "    </tr>\n",
              "    <tr>\n",
              "      <th>1341616</th>\n",
              "      <td>1.0</td>\n",
              "      <td>0.0</td>\n",
              "      <td>0.0</td>\n",
              "      <td>0.0</td>\n",
              "    </tr>\n",
              "  </tbody>\n",
              "</table>\n",
              "<p>1341617 rows × 4 columns</p>\n",
              "</div>\n",
              "      <button class=\"colab-df-convert\" onclick=\"convertToInteractive('df-a1d8dfe3-102d-47d3-aaed-ac3773b088f8')\"\n",
              "              title=\"Convert this dataframe to an interactive table.\"\n",
              "              style=\"display:none;\">\n",
              "        \n",
              "  <svg xmlns=\"http://www.w3.org/2000/svg\" height=\"24px\"viewBox=\"0 0 24 24\"\n",
              "       width=\"24px\">\n",
              "    <path d=\"M0 0h24v24H0V0z\" fill=\"none\"/>\n",
              "    <path d=\"M18.56 5.44l.94 2.06.94-2.06 2.06-.94-2.06-.94-.94-2.06-.94 2.06-2.06.94zm-11 1L8.5 8.5l.94-2.06 2.06-.94-2.06-.94L8.5 2.5l-.94 2.06-2.06.94zm10 10l.94 2.06.94-2.06 2.06-.94-2.06-.94-.94-2.06-.94 2.06-2.06.94z\"/><path d=\"M17.41 7.96l-1.37-1.37c-.4-.4-.92-.59-1.43-.59-.52 0-1.04.2-1.43.59L10.3 9.45l-7.72 7.72c-.78.78-.78 2.05 0 2.83L4 21.41c.39.39.9.59 1.41.59.51 0 1.02-.2 1.41-.59l7.78-7.78 2.81-2.81c.8-.78.8-2.07 0-2.86zM5.41 20L4 18.59l7.72-7.72 1.47 1.35L5.41 20z\"/>\n",
              "  </svg>\n",
              "      </button>\n",
              "      \n",
              "  <style>\n",
              "    .colab-df-container {\n",
              "      display:flex;\n",
              "      flex-wrap:wrap;\n",
              "      gap: 12px;\n",
              "    }\n",
              "\n",
              "    .colab-df-convert {\n",
              "      background-color: #E8F0FE;\n",
              "      border: none;\n",
              "      border-radius: 50%;\n",
              "      cursor: pointer;\n",
              "      display: none;\n",
              "      fill: #1967D2;\n",
              "      height: 32px;\n",
              "      padding: 0 0 0 0;\n",
              "      width: 32px;\n",
              "    }\n",
              "\n",
              "    .colab-df-convert:hover {\n",
              "      background-color: #E2EBFA;\n",
              "      box-shadow: 0px 1px 2px rgba(60, 64, 67, 0.3), 0px 1px 3px 1px rgba(60, 64, 67, 0.15);\n",
              "      fill: #174EA6;\n",
              "    }\n",
              "\n",
              "    [theme=dark] .colab-df-convert {\n",
              "      background-color: #3B4455;\n",
              "      fill: #D2E3FC;\n",
              "    }\n",
              "\n",
              "    [theme=dark] .colab-df-convert:hover {\n",
              "      background-color: #434B5C;\n",
              "      box-shadow: 0px 1px 3px 1px rgba(0, 0, 0, 0.15);\n",
              "      filter: drop-shadow(0px 1px 2px rgba(0, 0, 0, 0.3));\n",
              "      fill: #FFFFFF;\n",
              "    }\n",
              "  </style>\n",
              "\n",
              "      <script>\n",
              "        const buttonEl =\n",
              "          document.querySelector('#df-a1d8dfe3-102d-47d3-aaed-ac3773b088f8 button.colab-df-convert');\n",
              "        buttonEl.style.display =\n",
              "          google.colab.kernel.accessAllowed ? 'block' : 'none';\n",
              "\n",
              "        async function convertToInteractive(key) {\n",
              "          const element = document.querySelector('#df-a1d8dfe3-102d-47d3-aaed-ac3773b088f8');\n",
              "          const dataTable =\n",
              "            await google.colab.kernel.invokeFunction('convertToInteractive',\n",
              "                                                     [key], {});\n",
              "          if (!dataTable) return;\n",
              "\n",
              "          const docLinkHtml = 'Like what you see? Visit the ' +\n",
              "            '<a target=\"_blank\" href=https://colab.research.google.com/notebooks/data_table.ipynb>data table notebook</a>'\n",
              "            + ' to learn more about interactive tables.';\n",
              "          element.innerHTML = '';\n",
              "          dataTable['output_type'] = 'display_data';\n",
              "          await google.colab.output.renderOutput(dataTable, element);\n",
              "          const docLink = document.createElement('div');\n",
              "          docLink.innerHTML = docLinkHtml;\n",
              "          element.appendChild(docLink);\n",
              "        }\n",
              "      </script>\n",
              "    </div>\n",
              "  </div>\n",
              "  "
            ]
          },
          "metadata": {},
          "execution_count": 14
        }
      ]
    },
    {
      "cell_type": "markdown",
      "source": [
        "Standardize the data"
      ],
      "metadata": {
        "id": "Hb2T-l66KxQh"
      }
    },
    {
      "cell_type": "code",
      "source": [
        "scaler = StandardScaler()\n",
        "x_scale = scaler.fit_transform(x)"
      ],
      "metadata": {
        "id": "0Ms_ZeBs7R62"
      },
      "execution_count": null,
      "outputs": []
    },
    {
      "cell_type": "code",
      "source": [
        "df_x = pd.DataFrame(x_scale, columns = ['ax','ay','az','gx','gy','gz'])\n",
        "print(df_x)"
      ],
      "metadata": {
        "colab": {
          "base_uri": "https://localhost:8080/"
        },
        "id": "LSmJTfdC7Xf5",
        "outputId": "f0b3a1c3-f8cd-4585-d0fa-b8a6b0c32a31"
      },
      "execution_count": null,
      "outputs": [
        {
          "output_type": "stream",
          "name": "stdout",
          "text": [
            "               ax        ay        az        gx        gy        gz\n",
            "0        0.620543  0.045290 -0.567099  0.000351 -0.018272  0.083457\n",
            "1        0.682938  0.054657 -0.570337  0.001033 -0.001082  0.089309\n",
            "2        0.736081  0.055088 -0.568419  0.007191 -0.022229  0.069323\n",
            "3        0.676755  0.012346 -0.577995  0.005263 -0.044493  0.060374\n",
            "4        0.627449  0.034983 -0.577198  0.002453 -0.015124  0.065937\n",
            "...           ...       ...       ...       ...       ...       ...\n",
            "1341612  0.251684  0.127635 -1.716335 -0.001023 -0.014647  0.089143\n",
            "1341613  0.253931  0.128546 -1.719921 -0.000847 -0.016142  0.087803\n",
            "1341614  0.253695  0.127799 -1.723325 -0.002069 -0.018029  0.089157\n",
            "1341615  0.258522  0.127588 -1.722741 -0.001386 -0.016478  0.090215\n",
            "1341616  0.254385  0.126340 -1.719718 -0.001427 -0.016218  0.087803\n",
            "\n",
            "[1341617 rows x 6 columns]\n"
          ]
        }
      ]
    },
    {
      "cell_type": "markdown",
      "source": [
        "Performing windowing technique on train data."
      ],
      "metadata": {
        "id": "rxkya0yeLL30"
      }
    },
    {
      "cell_type": "code",
      "source": [
        "def apply_windows(df_x, df_y, window_size=120):\n",
        "  x_window, y_window=[],[]\n",
        "  for i in range(0, len(df_x)-window_size, window_size+1):\n",
        "    x_window.append([df_x.values[i:i+window_size]])\n",
        "    y_window.append([df_y.values[i:i+window_size]])\n",
        "  x_window=np.array(x_window).reshape(-1,window_size,6)\n",
        "  y_window=np.array(y_window).reshape(-1,window_size,4)\n",
        "\n",
        "  return x_window, y_window"
      ],
      "metadata": {
        "id": "NUvUU_e48MMW"
      },
      "execution_count": null,
      "outputs": []
    },
    {
      "cell_type": "code",
      "source": [
        "window_size = 80\n",
        "x, y = apply_windows(df_x, df_y, window_size)\n",
        "print(x.shape, y.shape)"
      ],
      "metadata": {
        "colab": {
          "base_uri": "https://localhost:8080/"
        },
        "id": "GjnPtEx18QFw",
        "outputId": "28ad6dbd-e1b7-4dbf-fc1d-991e0bdf0863"
      },
      "execution_count": null,
      "outputs": [
        {
          "output_type": "stream",
          "name": "stdout",
          "text": [
            "(16563, 80, 6) (16563, 80, 4)\n"
          ]
        }
      ]
    },
    {
      "cell_type": "markdown",
      "source": [
        "Split the data into training and validation set."
      ],
      "metadata": {
        "id": "3r6xz0KjMdPH"
      }
    },
    {
      "cell_type": "code",
      "source": [
        "x_train, x_val, y_train, y_val = train_test_split(x, y, test_size=0.1,random_state=42)\n",
        "\n",
        "print(len(x_train), len(x_val))\n",
        "print(len(y_train), len(y_val))"
      ],
      "metadata": {
        "colab": {
          "base_uri": "https://localhost:8080/"
        },
        "id": "7FD6WpSm8UP8",
        "outputId": "b9153214-5014-469a-a569-d4c05d19902b"
      },
      "execution_count": null,
      "outputs": [
        {
          "output_type": "stream",
          "name": "stdout",
          "text": [
            "14906 1657\n",
            "14906 1657\n"
          ]
        }
      ]
    },
    {
      "cell_type": "code",
      "source": [
        "def generate_model_CNN():\n",
        "  model = Sequential()\n",
        "  model.add(Conv1D(32, kernel_size=3, activation='relu', padding='same', input_shape=(80,6)))\n",
        "  model.add(AveragePooling1D(2))\n",
        "  model.add(Dropout(0.2))\n",
        "\n",
        "  model.add(Conv1D(64, kernel_size=3, activation='relu', padding='same'))\n",
        "  model.add(AveragePooling1D(2))\n",
        "  model.add(Dropout(0.2))\n",
        "\n",
        "  model.add(Conv1D(64, kernel_size=3, activation='relu', padding='same'))\n",
        "  model.add(UpSampling1D(size=2))\n",
        "  model.add(Dropout(0.2))\n",
        "\n",
        "  model.add(Conv1D(32, kernel_size=3, activation='relu', padding='same'))\n",
        "  model.add(UpSampling1D(size=2))\n",
        "  model.add(Dropout(0.2))\n",
        "\n",
        "  model.add(Conv1D(4, kernel_size=3, activation='relu', padding='same'))\n",
        "  opt = SGD(lr=0.001, momentum=0.9)\n",
        "  model.compile(optimizer=Adam(learning_rate=0.001),  loss='categorical_crossentropy', metrics = ['accuracy'])\n",
        "  return model"
      ],
      "metadata": {
        "id": "zehUtOvE8ad1"
      },
      "execution_count": null,
      "outputs": []
    },
    {
      "cell_type": "code",
      "source": [
        "with tpu_strategy.scope(): # creating the model in the TPUStrategy scope means we will train the model on the TPU\n",
        "  cnn_model = generate_model_CNN()\n",
        "cnn_model.summary()"
      ],
      "metadata": {
        "colab": {
          "base_uri": "https://localhost:8080/"
        },
        "id": "qTAoWFot8bA_",
        "outputId": "84b4400e-60da-4c15-df6e-c19f5c5baba7"
      },
      "execution_count": null,
      "outputs": [
        {
          "output_type": "stream",
          "name": "stdout",
          "text": [
            "Model: \"sequential\"\n",
            "_________________________________________________________________\n",
            " Layer (type)                Output Shape              Param #   \n",
            "=================================================================\n",
            " conv1d (Conv1D)             (None, 80, 32)            608       \n",
            "                                                                 \n",
            " average_pooling1d (AverageP  (None, 40, 32)           0         \n",
            " ooling1D)                                                       \n",
            "                                                                 \n",
            " dropout (Dropout)           (None, 40, 32)            0         \n",
            "                                                                 \n",
            " conv1d_1 (Conv1D)           (None, 40, 64)            6208      \n",
            "                                                                 \n",
            " average_pooling1d_1 (Averag  (None, 20, 64)           0         \n",
            " ePooling1D)                                                     \n",
            "                                                                 \n",
            " dropout_1 (Dropout)         (None, 20, 64)            0         \n",
            "                                                                 \n",
            " conv1d_2 (Conv1D)           (None, 20, 64)            12352     \n",
            "                                                                 \n",
            " up_sampling1d (UpSampling1D  (None, 40, 64)           0         \n",
            " )                                                               \n",
            "                                                                 \n",
            " dropout_2 (Dropout)         (None, 40, 64)            0         \n",
            "                                                                 \n",
            " conv1d_3 (Conv1D)           (None, 40, 32)            6176      \n",
            "                                                                 \n",
            " up_sampling1d_1 (UpSampling  (None, 80, 32)           0         \n",
            " 1D)                                                             \n",
            "                                                                 \n",
            " dropout_3 (Dropout)         (None, 80, 32)            0         \n",
            "                                                                 \n",
            " conv1d_4 (Conv1D)           (None, 80, 4)             388       \n",
            "                                                                 \n",
            "=================================================================\n",
            "Total params: 25,732\n",
            "Trainable params: 25,732\n",
            "Non-trainable params: 0\n",
            "_________________________________________________________________\n"
          ]
        }
      ]
    },
    {
      "cell_type": "code",
      "source": [
        "history_cnn= cnn_model.fit(x_train, y_train, epochs=40, verbose=1, validation_data=(x_val, y_val))"
      ],
      "metadata": {
        "colab": {
          "base_uri": "https://localhost:8080/"
        },
        "id": "R4JYz9ez9o3o",
        "outputId": "278fcc0d-ba2d-4945-eb9f-d7f93bea3335"
      },
      "execution_count": null,
      "outputs": [
        {
          "output_type": "stream",
          "name": "stdout",
          "text": [
            "Epoch 1/40\n",
            "466/466 [==============================] - 16s 21ms/step - loss: nan - accuracy: 0.7469 - val_loss: 0.7191 - val_accuracy: 0.7631\n",
            "Epoch 2/40\n",
            "466/466 [==============================] - 8s 18ms/step - loss: 0.7326 - accuracy: 0.7492 - val_loss: 0.8321 - val_accuracy: 0.7631\n",
            "Epoch 3/40\n",
            "466/466 [==============================] - 9s 20ms/step - loss: 0.7021 - accuracy: 0.7588 - val_loss: 0.5771 - val_accuracy: 0.7964\n",
            "Epoch 4/40\n",
            "466/466 [==============================] - 8s 17ms/step - loss: 0.6724 - accuracy: 0.7646 - val_loss: 0.6232 - val_accuracy: 0.7631\n",
            "Epoch 5/40\n",
            "466/466 [==============================] - 9s 19ms/step - loss: 0.6369 - accuracy: 0.7708 - val_loss: 0.5592 - val_accuracy: 0.8012\n",
            "Epoch 6/40\n",
            "466/466 [==============================] - 8s 17ms/step - loss: 0.6039 - accuracy: 0.7794 - val_loss: 0.5268 - val_accuracy: 0.8023\n",
            "Epoch 7/40\n",
            "466/466 [==============================] - 9s 19ms/step - loss: 0.6150 - accuracy: 0.7758 - val_loss: 0.6037 - val_accuracy: 0.7701\n",
            "Epoch 8/40\n",
            "466/466 [==============================] - 8s 18ms/step - loss: 0.6048 - accuracy: 0.7798 - val_loss: 0.5114 - val_accuracy: 0.8216\n",
            "Epoch 9/40\n",
            "466/466 [==============================] - 9s 18ms/step - loss: 0.5754 - accuracy: 0.7936 - val_loss: 0.4886 - val_accuracy: 0.8233\n",
            "Epoch 10/40\n",
            "466/466 [==============================] - 9s 19ms/step - loss: 0.5563 - accuracy: 0.7982 - val_loss: 0.5249 - val_accuracy: 0.8242\n",
            "Epoch 11/40\n",
            "466/466 [==============================] - 9s 18ms/step - loss: 0.5370 - accuracy: 0.8023 - val_loss: 0.4543 - val_accuracy: 0.8310\n",
            "Epoch 12/40\n",
            "466/466 [==============================] - 10s 20ms/step - loss: 0.5171 - accuracy: 0.8107 - val_loss: 0.4397 - val_accuracy: 0.8400\n",
            "Epoch 13/40\n",
            "466/466 [==============================] - 9s 19ms/step - loss: 0.5595 - accuracy: 0.7965 - val_loss: 0.4698 - val_accuracy: 0.8338\n",
            "Epoch 14/40\n",
            "466/466 [==============================] - 9s 19ms/step - loss: 0.5237 - accuracy: 0.8072 - val_loss: 0.4430 - val_accuracy: 0.8379\n",
            "Epoch 15/40\n",
            "466/466 [==============================] - 8s 18ms/step - loss: 0.4945 - accuracy: 0.8185 - val_loss: 0.4330 - val_accuracy: 0.8394\n",
            "Epoch 16/40\n",
            "466/466 [==============================] - 9s 18ms/step - loss: 0.4799 - accuracy: 0.8239 - val_loss: 0.4173 - val_accuracy: 0.8491\n",
            "Epoch 17/40\n",
            "466/466 [==============================] - 8s 18ms/step - loss: 0.4812 - accuracy: 0.8237 - val_loss: 0.4166 - val_accuracy: 0.8476\n",
            "Epoch 18/40\n",
            "466/466 [==============================] - 8s 18ms/step - loss: 0.4878 - accuracy: 0.8211 - val_loss: 0.4216 - val_accuracy: 0.8499\n",
            "Epoch 19/40\n",
            "466/466 [==============================] - 9s 19ms/step - loss: 0.4658 - accuracy: 0.8308 - val_loss: 0.3812 - val_accuracy: 0.8582\n",
            "Epoch 20/40\n",
            "466/466 [==============================] - 8s 18ms/step - loss: 0.4479 - accuracy: 0.8372 - val_loss: 0.3824 - val_accuracy: 0.8598\n",
            "Epoch 21/40\n",
            "466/466 [==============================] - 9s 19ms/step - loss: 0.4500 - accuracy: 0.8355 - val_loss: 0.3798 - val_accuracy: 0.8610\n",
            "Epoch 22/40\n",
            "466/466 [==============================] - 8s 18ms/step - loss: 0.4362 - accuracy: 0.8406 - val_loss: 0.3594 - val_accuracy: 0.8673\n",
            "Epoch 23/40\n",
            "466/466 [==============================] - 9s 19ms/step - loss: 0.4219 - accuracy: 0.8451 - val_loss: 0.3504 - val_accuracy: 0.8710\n",
            "Epoch 24/40\n",
            "466/466 [==============================] - 9s 20ms/step - loss: 0.4221 - accuracy: 0.8456 - val_loss: 0.3488 - val_accuracy: 0.8714\n",
            "Epoch 25/40\n",
            "466/466 [==============================] - 8s 18ms/step - loss: 0.4074 - accuracy: 0.8504 - val_loss: 0.3395 - val_accuracy: 0.8747\n",
            "Epoch 26/40\n",
            "466/466 [==============================] - 9s 19ms/step - loss: 0.3955 - accuracy: 0.8540 - val_loss: 0.3324 - val_accuracy: 0.8772\n",
            "Epoch 27/40\n",
            "466/466 [==============================] - 8s 18ms/step - loss: 0.3881 - accuracy: 0.8575 - val_loss: 0.3228 - val_accuracy: 0.8826\n",
            "Epoch 28/40\n",
            "466/466 [==============================] - 9s 19ms/step - loss: 0.4049 - accuracy: 0.8514 - val_loss: 0.3693 - val_accuracy: 0.8674\n",
            "Epoch 29/40\n",
            "466/466 [==============================] - 8s 18ms/step - loss: 0.4253 - accuracy: 0.8461 - val_loss: 0.3313 - val_accuracy: 0.8777\n",
            "Epoch 30/40\n",
            "466/466 [==============================] - 9s 20ms/step - loss: 0.4028 - accuracy: 0.8525 - val_loss: 0.3430 - val_accuracy: 0.8738\n",
            "Epoch 31/40\n",
            "466/466 [==============================] - 9s 19ms/step - loss: 0.4160 - accuracy: 0.8476 - val_loss: 0.3235 - val_accuracy: 0.8786\n",
            "Epoch 32/40\n",
            "466/466 [==============================] - 8s 18ms/step - loss: 0.3843 - accuracy: 0.8579 - val_loss: 0.3183 - val_accuracy: 0.8810\n",
            "Epoch 33/40\n",
            "466/466 [==============================] - 9s 19ms/step - loss: 0.3731 - accuracy: 0.8616 - val_loss: 0.3113 - val_accuracy: 0.8867\n",
            "Epoch 34/40\n",
            "466/466 [==============================] - 9s 18ms/step - loss: 0.3948 - accuracy: 0.8546 - val_loss: 0.3232 - val_accuracy: 0.8811\n",
            "Epoch 35/40\n",
            "466/466 [==============================] - 9s 19ms/step - loss: 0.3760 - accuracy: 0.8616 - val_loss: 0.3080 - val_accuracy: 0.8863\n",
            "Epoch 36/40\n",
            "466/466 [==============================] - 8s 17ms/step - loss: 0.3708 - accuracy: 0.8624 - val_loss: 0.2971 - val_accuracy: 0.8906\n",
            "Epoch 37/40\n",
            "466/466 [==============================] - 9s 19ms/step - loss: 0.3601 - accuracy: 0.8662 - val_loss: 0.2965 - val_accuracy: 0.8912\n",
            "Epoch 38/40\n",
            "466/466 [==============================] - 8s 17ms/step - loss: 0.3614 - accuracy: 0.8655 - val_loss: 0.2944 - val_accuracy: 0.8914\n",
            "Epoch 39/40\n",
            "466/466 [==============================] - 9s 19ms/step - loss: 0.3568 - accuracy: 0.8685 - val_loss: 0.2879 - val_accuracy: 0.8947\n",
            "Epoch 40/40\n",
            "466/466 [==============================] - 8s 18ms/step - loss: 0.3558 - accuracy: 0.8695 - val_loss: 0.2977 - val_accuracy: 0.8929\n"
          ]
        }
      ]
    },
    {
      "cell_type": "code",
      "source": [
        "def plot_history(history):\n",
        "  plt.title('Loss')\n",
        "  plt.plot(history.history['loss'], color='blue', label='train')\n",
        "  plt.plot(history.history['val_loss'], color='red', label='validation')\n",
        "  plt.ylabel('Loss')\n",
        "  plt.xlabel('Epoch')\n",
        "  plt.legend(['Train', 'Validation'])\n",
        "  plt.show()\n",
        "  plt.title('Accuracy')\n",
        "  plt.plot(history.history['accuracy'], color='blue', label='train')\n",
        "  plt.plot(history.history['val_accuracy'], color='red', label='validation')\n",
        "  plt.ylabel('Accuracy')\n",
        "  plt.xlabel('Epoch')\n",
        "  plt.legend(['Train', 'Validation'])\n",
        "  plt.show()"
      ],
      "metadata": {
        "id": "W0_RWteCOf0B"
      },
      "execution_count": null,
      "outputs": []
    },
    {
      "cell_type": "code",
      "source": [
        "def flatten_pred(y_pred):\n",
        "  y_hat=[]\n",
        "  for i in y_pred:\n",
        "    for j in i:\n",
        "      y_hat.append(np.argmax(j))\n",
        "  return y_hat"
      ],
      "metadata": {
        "id": "KHSyiukxOgFd"
      },
      "execution_count": null,
      "outputs": []
    },
    {
      "cell_type": "code",
      "source": [
        "y_val_predictions = cnn_model.predict(x_val)\n",
        "y_val_predictions_flatten = flatten_pred(y_val_predictions)\n",
        "y_val_flatten = flatten_pred(y_val)\n",
        "print(classification_report(y_val_predictions_flatten, y_val_flatten))"
      ],
      "metadata": {
        "colab": {
          "base_uri": "https://localhost:8080/"
        },
        "id": "L6ZxOFxiOwen",
        "outputId": "023f42c7-2e64-4310-ff2c-5c79af9ec737"
      },
      "execution_count": null,
      "outputs": [
        {
          "output_type": "stream",
          "name": "stdout",
          "text": [
            "52/52 [==============================] - 1s 10ms/step\n",
            "              precision    recall  f1-score   support\n",
            "\n",
            "           0       0.96      0.91      0.93    106306\n",
            "           1       0.93      0.88      0.90      5664\n",
            "           2       0.92      0.91      0.92      7598\n",
            "           3       0.52      0.74      0.61     12992\n",
            "\n",
            "    accuracy                           0.89    132560\n",
            "   macro avg       0.83      0.86      0.84    132560\n",
            "weighted avg       0.91      0.89      0.90    132560\n",
            "\n"
          ]
        }
      ]
    },
    {
      "cell_type": "code",
      "source": [
        "early_stopping = EarlyStopping(monitor='val_loss', patience=5, restore_best_weights=True)\n",
        "reduce_lr = ReduceLROnPlateau(monitor='val_loss', factor=0.5, patience=2)"
      ],
      "metadata": {
        "id": "gXKRMwgrTVQd"
      },
      "execution_count": null,
      "outputs": []
    },
    {
      "cell_type": "code",
      "source": [
        "def generate_model_biLSTM():\n",
        "  model = Sequential()\n",
        "  model.add(Bidirectional(LSTM(90,return_sequences=True, input_shape=(80,6))))\n",
        "  model.add(Dropout(0.2))\n",
        "  model.add(LSTM(40, return_sequences=True, activation=\"relu\"))\n",
        "  model.add(Dropout(0.1))\n",
        "  model.add(Dense(22, activation=\"relu\"))\n",
        "  model.add(Dense(4, activation=\"softmax\"))\n",
        "  model.compile(optimizer=Adam(learning_rate=0.001),  loss='categorical_crossentropy', metrics = ['accuracy'])\n",
        "  return model"
      ],
      "metadata": {
        "id": "MSi05KcVJ8Xd"
      },
      "execution_count": null,
      "outputs": []
    },
    {
      "cell_type": "code",
      "source": [
        "with tpu_strategy.scope(): \n",
        "  bilstm_model=generate_model_biLSTM()"
      ],
      "metadata": {
        "id": "IPD2iGLVM7-Z"
      },
      "execution_count": null,
      "outputs": []
    },
    {
      "cell_type": "code",
      "source": [
        "# 100, 50, 25, factor 0.2\n",
        "# 90, 40, 22, factor 0.5\n",
        "history_bilstm = bilstm_model.fit(x_train, y_train, epochs=25, verbose=1, validation_data=(x_val, y_val), callbacks=[early_stopping, reduce_lr])"
      ],
      "metadata": {
        "id": "_wPzg1VTJ_sn"
      },
      "execution_count": null,
      "outputs": []
    },
    {
      "cell_type": "code",
      "source": [
        "plot_history(history_bilstm)"
      ],
      "metadata": {
        "colab": {
          "base_uri": "https://localhost:8080/",
          "height": 927
        },
        "id": "6yoQRhDgKIgQ",
        "outputId": "988506bb-29fd-4fe9-db2a-32c0c37b6f89"
      },
      "execution_count": null,
      "outputs": [
        {
          "output_type": "display_data",
          "data": {
            "text/plain": [
              "<Figure size 640x480 with 1 Axes>"
            ],
            "image/png": "[encoded data removed]"
          },
          "metadata": {}
        },
        {
          "output_type": "display_data",
          "data": {
            "text/plain": [
              "<Figure size 640x480 with 1 Axes>"
            ],
            "image/png": "[encoded data removed]"
          },
          "metadata": {}
        }
      ]
    },
    {
      "cell_type": "code",
      "source": [
        "y_val_predictions = bilstm_model.predict(x_val)\n",
        "y_val_predictions_flatten = flatten_pred(y_val_pred)\n",
        "y_val_flatten = flatten_pred(y_val)\n",
        "print(classification_report(y_val_predictions_flatten, y_val_flatten))"
      ],
      "metadata": {
        "colab": {
          "base_uri": "https://localhost:8080/"
        },
        "id": "ELv4q2fd8jPn",
        "outputId": "024fc754-2c9d-439a-c711-87a094c37672"
      },
      "execution_count": null,
      "outputs": [
        {
          "output_type": "stream",
          "name": "stdout",
          "text": [
            "52/52 [==============================] - 3s 17ms/step\n",
            "              precision    recall  f1-score   support\n",
            "\n",
            "           0       0.96      0.97      0.97     99717\n",
            "           1       0.95      0.92      0.93      5506\n",
            "           2       0.94      0.95      0.94      7465\n",
            "           3       0.89      0.83      0.86     19872\n",
            "\n",
            "    accuracy                           0.95    132560\n",
            "   macro avg       0.93      0.92      0.93    132560\n",
            "weighted avg       0.95      0.95      0.95    132560\n",
            "\n"
          ]
        }
      ]
    },
    {
      "cell_type": "markdown",
      "source": [
        "Generate Test files"
      ],
      "metadata": {
        "id": "dyEfVGhvFpVi"
      }
    },
    {
      "cell_type": "code",
      "source": [
        "def apply_test_windows(df_x, window_size=80):\n",
        "  window_x=[]\n",
        "  for i in range(0, len(df_x)-window_size, window_size):\n",
        "    window_x.append([df_x.values[i:i+window_size]])\n",
        "  window_x=np.array(window_x).reshape(-1,window_size,6)\n",
        "  return window_x"
      ],
      "metadata": {
        "id": "zCIf4RZ1zTMi"
      },
      "execution_count": null,
      "outputs": []
    },
    {
      "cell_type": "code",
      "source": [
        "test_files = sorted(set([x[:14] for x in test_x_files]))\n",
        "for file in test_files:\n",
        "  x = pd.read_csv(f\"{path}/TestData/{file}__x.csv\", names=[\"accr_x\", \"accr_y\",\"accr_z\",\"gyr_x\",\"gyr_y\",\"gyr_z\"])\n",
        "  # x_time = pd.read_csv(f\"{path}/TestData/{file}__x_time.csv\", names = [\"time\"])\n",
        "  x_test_scaled = scaler.transform(x)\n",
        "  x_test = pd.DataFrame(x_test_scaled, columns = ['ax','ay','az','gx','gy','gz'])\n",
        "  x = apply_test_windows(x_test, wsize) \n",
        "  y_pred = bilstm_model.predict(x)\n",
        "  y = y_pred.tolist()\n",
        "  yhat = flatten_pred(y)\n",
        "  yhat_df=pd.DataFrame(yhat, columns=['label'])\n",
        "  x = pd.read_csv(f\"{path}/TestData/{file}__x.csv\", names=[\"accr_x\", \"accr_y\",\"accr_z\",\"gyr_x\",\"gyr_y\",\"gyr_z\"])\n",
        "  x_time = pd.read_csv(f\"{path}/TestData/{file}__x_time.csv\", names = [\"time\"])\n",
        "  x['time'] = x_time['time']\n",
        "  x = x.join(yhat_df, how='left')\n",
        "  x['label'] = x['label'].fillna(0)\n",
        "  y_time = pd.read_csv(f\"{path}/TestData/{file}__y_time.csv\", names = [\"time\"])\n",
        "  x['time'] = x['time'].apply(lambda x:int(x*100)/100)\n",
        "  x_final= pd.merge(x, y_time, on='time', how='inner')\n",
        "  x_final['label'].to_csv(f'{file}__y.csv', index=False, header=False)\n",
        "  print(x_final.shape)"
      ],
      "metadata": {
        "id": "L-ARDG-LMEVV"
      },
      "execution_count": null,
      "outputs": []
    }
  ]
}
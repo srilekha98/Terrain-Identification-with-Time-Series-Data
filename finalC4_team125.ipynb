{
 "cells": [
  {
   "cell_type": "markdown",
   "metadata": {
    "id": "Keb1w1gsEhhJ"
   },
   "source": [
    "Connect to a TPU, import the required libraries and connect to the drive"
   ]
  },
  {
   "cell_type": "code",
   "execution_count": 1,
   "metadata": {
    "colab": {
     "base_uri": "https://localhost:8080/"
    },
    "id": "v7Up8qnh5vel",
    "outputId": "de9199c4-11d6-4869-9436-f63a50c31c9a"
   },
   "outputs": [
    {
     "name": "stdout",
     "output_type": "stream",
     "text": [
      "Tensorflow version 2.12.0\n",
      "Running on TPU  ['10.97.65.154:8470']\n"
     ]
    }
   ],
   "source": [
    "import tensorflow as tf\n",
    "print(\"Tensorflow version \" + tf.__version__)\n",
    "\n",
    "try:\n",
    "  tpu = tf.distribute.cluster_resolver.TPUClusterResolver()  # TPU detection\n",
    "  print('Running on TPU ', tpu.cluster_spec().as_dict()['worker'])\n",
    "except ValueError:\n",
    "  raise BaseException('ERROR: Not connected to a TPU runtime; please see the previous cell in this notebook for instructions!')\n",
    "\n",
    "tf.config.experimental_connect_to_cluster(tpu)\n",
    "tf.tpu.experimental.initialize_tpu_system(tpu)\n",
    "tpu_strategy = tf.distribute.TPUStrategy(tpu)"
   ]
  },
  {
   "cell_type": "code",
   "execution_count": 2,
   "metadata": {
    "colab": {
     "base_uri": "https://localhost:8080/"
    },
    "id": "CUThpNSm54tB",
    "outputId": "2d71c004-2403-41ef-d832-e846e9c4c2f1"
   },
   "outputs": [
    {
     "name": "stdout",
     "output_type": "stream",
     "text": [
      "Mounted at /content/drive\n"
     ]
    }
   ],
   "source": [
    "from google.colab import drive\n",
    "drive.mount('/content/drive')"
   ]
  },
  {
   "cell_type": "code",
   "execution_count": 3,
   "metadata": {
    "id": "iybjmdIT6DR5"
   },
   "outputs": [],
   "source": [
    "import glob \n",
    "import pickle\n",
    "import os\n",
    "import re\n",
    "import warnings\n",
    "warnings.filterwarnings('ignore')\n",
    "import numpy as np\n",
    "import pandas as pd\n",
    "import fnmatch\n",
    "import matplotlib.pyplot as plt\n",
    "%matplotlib inline\n",
    "from sklearn.model_selection import train_test_split\n",
    "from sklearn import model_selection\n",
    "from imblearn.over_sampling import SMOTE\n",
    "\n",
    "from sklearn.preprocessing import StandardScaler\n",
    "from sklearn import preprocessing\n",
    "from sklearn.model_selection import cross_val_score\n",
    "from sklearn.metrics import accuracy_score\n",
    "from sklearn.metrics import classification_report, confusion_matrix\n",
    "from keras.models import Sequential\n",
    "from keras.layers import Dense\n",
    "from keras.layers import Flatten, Reshape\n",
    "from keras.utils import to_categorical\n",
    "from keras.layers.convolutional import Conv1D\n",
    "from keras.layers.convolutional import MaxPooling1D\n",
    "from keras.optimizers import SGD, Adam, RMSprop\n",
    "from keras.layers import Dropout, InputLayer, LSTM\n",
    "from keras.layers import Bidirectional, BatchNormalization\n",
    "from keras.layers import TimeDistributed\n",
    "from keras.layers import Conv2D, MaxPooling2D, Flatten, Dense, Activation, BatchNormalization, Dropout, UpSampling1D, AveragePooling1D\n",
    "from keras.callbacks import EarlyStopping, ReduceLROnPlateau"
   ]
  },
  {
   "cell_type": "code",
   "execution_count": 4,
   "metadata": {
    "id": "Z0ERYMKs6UGb"
   },
   "outputs": [],
   "source": [
    "path = '/content/drive/MyDrive/ECE542_sp2022_Project_TerrainRecognition'"
   ]
  },
  {
   "cell_type": "code",
   "execution_count": 5,
   "metadata": {
    "id": "I5wRUaCp6jZt"
   },
   "outputs": [],
   "source": [
    "trainData = os.listdir(f\"{path}/TrainingData\")[1::]\n",
    "x_time_files = fnmatch.filter(trainData,'*x_time.csv')\n",
    "y_time_files = fnmatch.filter(trainData,'*y_time.csv')\n",
    "x_files = fnmatch.filter(trainData,'*x.csv')\n",
    "y_files = fnmatch.filter(trainData,'*y.csv')\n",
    "\n",
    "#Test Data\n",
    "testData = os.listdir(f\"{path}/TestData\")\n",
    "test_x_time_files = fnmatch.filter(testData,'*x_time.csv')\n",
    "test_y_time_files = fnmatch.filter(testData,'*y_time.csv')\n",
    "test_x_files = fnmatch.filter(testData,'*x.csv')"
   ]
  },
  {
   "cell_type": "markdown",
   "metadata": {
    "id": "1Ym-GYJeJxZ0"
   },
   "source": [
    "Pre-processing the data and merging"
   ]
  },
  {
   "cell_type": "code",
   "execution_count": 6,
   "metadata": {
    "id": "Odsc9aSL6n_Q"
   },
   "outputs": [],
   "source": [
    "main_df = pd.DataFrame()\n",
    "files = sorted(set([x[:14] for x in x_files]))\n",
    "\n",
    "for file in files:\n",
    "    temp_x = pd.read_csv(f\"{path}/TrainingData/{file}__x.csv\", names=[\"accr_x\", \"accr_y\",\"accr_z\",\"gyr_x\",\"gyr_y\",\"gyr_z\"])\n",
    "    temp_xt = pd.read_csv(f\"{path}/TrainingData/{file}__x_time.csv\", names = [\"time\"])\n",
    "    temp_x['time'] = temp_xt['time']\n",
    "    temp_x['time'] = temp_x['time'].apply(lambda x:int(x*100)/100)\n",
    "    \n",
    "    \n",
    "    temp_y = pd.read_csv(f\"{path}/TrainingData/{file}__y.csv\",names=[\"label\"])\n",
    "    temp_yt = pd.read_csv(f\"{path}/TrainingData/{file}__y_time.csv\",names=[\"time\"])\n",
    "    temp_y['time'] = temp_yt['time']\n",
    "    \n",
    "    df_xy = pd.merge(temp_x,temp_y,on='time', how='outer')\n",
    "    df_xy['label']= df_xy['label'].interpolate(method='pad')\n",
    "    df_xy = df_xy.loc[df_xy['time']!=0]\n",
    "    df = df_xy.loc[df_xy['accr_x']!='accr_x']\n",
    "    main_df = main_df.append(df)"
   ]
  },
  {
   "cell_type": "code",
   "execution_count": 7,
   "metadata": {
    "id": "_5qJW0pZ6zxL"
   },
   "outputs": [],
   "source": [
    "y = main_df['label']\n",
    "x = main_df.drop('label',axis=1)\n",
    "x = x.drop('time', axis=1)"
   ]
  },
  {
   "cell_type": "markdown",
   "metadata": {
    "id": "LUTzVNieJ3DL"
   },
   "source": [
    "One hot encoding for labels"
   ]
  },
  {
   "cell_type": "code",
   "execution_count": 8,
   "metadata": {
    "id": "w40ydUAn69E2"
   },
   "outputs": [],
   "source": [
    "y_encode = to_categorical(y,4).reshape(-1,4)\n",
    "df_y = pd.DataFrame(y_encode, columns = ['label1','lable2','lable3','lable4'])"
   ]
  },
  {
   "cell_type": "code",
   "execution_count": 9,
   "metadata": {
    "colab": {
     "base_uri": "https://localhost:8080/",
     "height": 423
    },
    "id": "enyddv0G-jJo",
    "outputId": "badd42ec-ef9b-4f9f-a4e2-c4b1fd9d93fa"
   },
   "outputs": [
    {
     "data": {
      "text/html": [
       "\n",
       "  <div id=\"df-60d110a7-3ba2-43c7-a795-947089547c52\">\n",
       "    <div class=\"colab-df-container\">\n",
       "      <div>\n",
       "<style scoped>\n",
       "    .dataframe tbody tr th:only-of-type {\n",
       "        vertical-align: middle;\n",
       "    }\n",
       "\n",
       "    .dataframe tbody tr th {\n",
       "        vertical-align: top;\n",
       "    }\n",
       "\n",
       "    .dataframe thead th {\n",
       "        text-align: right;\n",
       "    }\n",
       "</style>\n",
       "<table border=\"1\" class=\"dataframe\">\n",
       "  <thead>\n",
       "    <tr style=\"text-align: right;\">\n",
       "      <th></th>\n",
       "      <th>label1</th>\n",
       "      <th>lable2</th>\n",
       "      <th>lable3</th>\n",
       "      <th>lable4</th>\n",
       "    </tr>\n",
       "  </thead>\n",
       "  <tbody>\n",
       "    <tr>\n",
       "      <th>0</th>\n",
       "      <td>1.0</td>\n",
       "      <td>0.0</td>\n",
       "      <td>0.0</td>\n",
       "      <td>0.0</td>\n",
       "    </tr>\n",
       "    <tr>\n",
       "      <th>1</th>\n",
       "      <td>1.0</td>\n",
       "      <td>0.0</td>\n",
       "      <td>0.0</td>\n",
       "      <td>0.0</td>\n",
       "    </tr>\n",
       "    <tr>\n",
       "      <th>2</th>\n",
       "      <td>1.0</td>\n",
       "      <td>0.0</td>\n",
       "      <td>0.0</td>\n",
       "      <td>0.0</td>\n",
       "    </tr>\n",
       "    <tr>\n",
       "      <th>3</th>\n",
       "      <td>1.0</td>\n",
       "      <td>0.0</td>\n",
       "      <td>0.0</td>\n",
       "      <td>0.0</td>\n",
       "    </tr>\n",
       "    <tr>\n",
       "      <th>4</th>\n",
       "      <td>1.0</td>\n",
       "      <td>0.0</td>\n",
       "      <td>0.0</td>\n",
       "      <td>0.0</td>\n",
       "    </tr>\n",
       "    <tr>\n",
       "      <th>...</th>\n",
       "      <td>...</td>\n",
       "      <td>...</td>\n",
       "      <td>...</td>\n",
       "      <td>...</td>\n",
       "    </tr>\n",
       "    <tr>\n",
       "      <th>1341612</th>\n",
       "      <td>1.0</td>\n",
       "      <td>0.0</td>\n",
       "      <td>0.0</td>\n",
       "      <td>0.0</td>\n",
       "    </tr>\n",
       "    <tr>\n",
       "      <th>1341613</th>\n",
       "      <td>1.0</td>\n",
       "      <td>0.0</td>\n",
       "      <td>0.0</td>\n",
       "      <td>0.0</td>\n",
       "    </tr>\n",
       "    <tr>\n",
       "      <th>1341614</th>\n",
       "      <td>1.0</td>\n",
       "      <td>0.0</td>\n",
       "      <td>0.0</td>\n",
       "      <td>0.0</td>\n",
       "    </tr>\n",
       "    <tr>\n",
       "      <th>1341615</th>\n",
       "      <td>1.0</td>\n",
       "      <td>0.0</td>\n",
       "      <td>0.0</td>\n",
       "      <td>0.0</td>\n",
       "    </tr>\n",
       "    <tr>\n",
       "      <th>1341616</th>\n",
       "      <td>1.0</td>\n",
       "      <td>0.0</td>\n",
       "      <td>0.0</td>\n",
       "      <td>0.0</td>\n",
       "    </tr>\n",
       "  </tbody>\n",
       "</table>\n",
       "<p>1341617 rows × 4 columns</p>\n",
       "</div>\n",
       "      <button class=\"colab-df-convert\" onclick=\"convertToInteractive('df-60d110a7-3ba2-43c7-a795-947089547c52')\"\n",
       "              title=\"Convert this dataframe to an interactive table.\"\n",
       "              style=\"display:none;\">\n",
       "        \n",
       "  <svg xmlns=\"http://www.w3.org/2000/svg\" height=\"24px\"viewBox=\"0 0 24 24\"\n",
       "       width=\"24px\">\n",
       "    <path d=\"M0 0h24v24H0V0z\" fill=\"none\"/>\n",
       "    <path d=\"M18.56 5.44l.94 2.06.94-2.06 2.06-.94-2.06-.94-.94-2.06-.94 2.06-2.06.94zm-11 1L8.5 8.5l.94-2.06 2.06-.94-2.06-.94L8.5 2.5l-.94 2.06-2.06.94zm10 10l.94 2.06.94-2.06 2.06-.94-2.06-.94-.94-2.06-.94 2.06-2.06.94z\"/><path d=\"M17.41 7.96l-1.37-1.37c-.4-.4-.92-.59-1.43-.59-.52 0-1.04.2-1.43.59L10.3 9.45l-7.72 7.72c-.78.78-.78 2.05 0 2.83L4 21.41c.39.39.9.59 1.41.59.51 0 1.02-.2 1.41-.59l7.78-7.78 2.81-2.81c.8-.78.8-2.07 0-2.86zM5.41 20L4 18.59l7.72-7.72 1.47 1.35L5.41 20z\"/>\n",
       "  </svg>\n",
       "      </button>\n",
       "      \n",
       "  <style>\n",
       "    .colab-df-container {\n",
       "      display:flex;\n",
       "      flex-wrap:wrap;\n",
       "      gap: 12px;\n",
       "    }\n",
       "\n",
       "    .colab-df-convert {\n",
       "      background-color: #E8F0FE;\n",
       "      border: none;\n",
       "      border-radius: 50%;\n",
       "      cursor: pointer;\n",
       "      display: none;\n",
       "      fill: #1967D2;\n",
       "      height: 32px;\n",
       "      padding: 0 0 0 0;\n",
       "      width: 32px;\n",
       "    }\n",
       "\n",
       "    .colab-df-convert:hover {\n",
       "      background-color: #E2EBFA;\n",
       "      box-shadow: 0px 1px 2px rgba(60, 64, 67, 0.3), 0px 1px 3px 1px rgba(60, 64, 67, 0.15);\n",
       "      fill: #174EA6;\n",
       "    }\n",
       "\n",
       "    [theme=dark] .colab-df-convert {\n",
       "      background-color: #3B4455;\n",
       "      fill: #D2E3FC;\n",
       "    }\n",
       "\n",
       "    [theme=dark] .colab-df-convert:hover {\n",
       "      background-color: #434B5C;\n",
       "      box-shadow: 0px 1px 3px 1px rgba(0, 0, 0, 0.15);\n",
       "      filter: drop-shadow(0px 1px 2px rgba(0, 0, 0, 0.3));\n",
       "      fill: #FFFFFF;\n",
       "    }\n",
       "  </style>\n",
       "\n",
       "      <script>\n",
       "        const buttonEl =\n",
       "          document.querySelector('#df-60d110a7-3ba2-43c7-a795-947089547c52 button.colab-df-convert');\n",
       "        buttonEl.style.display =\n",
       "          google.colab.kernel.accessAllowed ? 'block' : 'none';\n",
       "\n",
       "        async function convertToInteractive(key) {\n",
       "          const element = document.querySelector('#df-60d110a7-3ba2-43c7-a795-947089547c52');\n",
       "          const dataTable =\n",
       "            await google.colab.kernel.invokeFunction('convertToInteractive',\n",
       "                                                     [key], {});\n",
       "          if (!dataTable) return;\n",
       "\n",
       "          const docLinkHtml = 'Like what you see? Visit the ' +\n",
       "            '<a target=\"_blank\" href=https://colab.research.google.com/notebooks/data_table.ipynb>data table notebook</a>'\n",
       "            + ' to learn more about interactive tables.';\n",
       "          element.innerHTML = '';\n",
       "          dataTable['output_type'] = 'display_data';\n",
       "          await google.colab.output.renderOutput(dataTable, element);\n",
       "          const docLink = document.createElement('div');\n",
       "          docLink.innerHTML = docLinkHtml;\n",
       "          element.appendChild(docLink);\n",
       "        }\n",
       "      </script>\n",
       "    </div>\n",
       "  </div>\n",
       "  "
      ],
      "text/plain": [
       "         label1  lable2  lable3  lable4\n",
       "0           1.0     0.0     0.0     0.0\n",
       "1           1.0     0.0     0.0     0.0\n",
       "2           1.0     0.0     0.0     0.0\n",
       "3           1.0     0.0     0.0     0.0\n",
       "4           1.0     0.0     0.0     0.0\n",
       "...         ...     ...     ...     ...\n",
       "1341612     1.0     0.0     0.0     0.0\n",
       "1341613     1.0     0.0     0.0     0.0\n",
       "1341614     1.0     0.0     0.0     0.0\n",
       "1341615     1.0     0.0     0.0     0.0\n",
       "1341616     1.0     0.0     0.0     0.0\n",
       "\n",
       "[1341617 rows x 4 columns]"
      ]
     },
     "execution_count": 9,
     "metadata": {},
     "output_type": "execute_result"
    }
   ],
   "source": [
    "df_y"
   ]
  },
  {
   "cell_type": "markdown",
   "metadata": {
    "id": "Hb2T-l66KxQh"
   },
   "source": [
    "Standardize the data"
   ]
  },
  {
   "cell_type": "code",
   "execution_count": 10,
   "metadata": {
    "id": "0Ms_ZeBs7R62"
   },
   "outputs": [],
   "source": [
    "scaler = StandardScaler()\n",
    "x_scale = scaler.fit_transform(x)"
   ]
  },
  {
   "cell_type": "code",
   "execution_count": 11,
   "metadata": {
    "colab": {
     "base_uri": "https://localhost:8080/"
    },
    "id": "LSmJTfdC7Xf5",
    "outputId": "299c341c-b904-47ee-e999-4e9c5780ec34"
   },
   "outputs": [
    {
     "name": "stdout",
     "output_type": "stream",
     "text": [
      "               ax        ay        az        gx        gy        gz\n",
      "0        0.620543  0.045290 -0.567099  0.000351 -0.018272  0.083457\n",
      "1        0.682938  0.054657 -0.570337  0.001033 -0.001082  0.089309\n",
      "2        0.736081  0.055088 -0.568419  0.007191 -0.022229  0.069323\n",
      "3        0.676755  0.012346 -0.577995  0.005263 -0.044493  0.060374\n",
      "4        0.627449  0.034983 -0.577198  0.002453 -0.015124  0.065937\n",
      "...           ...       ...       ...       ...       ...       ...\n",
      "1341612  0.251684  0.127635 -1.716335 -0.001023 -0.014647  0.089143\n",
      "1341613  0.253931  0.128546 -1.719921 -0.000847 -0.016142  0.087803\n",
      "1341614  0.253695  0.127799 -1.723325 -0.002069 -0.018029  0.089157\n",
      "1341615  0.258522  0.127588 -1.722741 -0.001386 -0.016478  0.090215\n",
      "1341616  0.254385  0.126340 -1.719718 -0.001427 -0.016218  0.087803\n",
      "\n",
      "[1341617 rows x 6 columns]\n"
     ]
    }
   ],
   "source": [
    "df_x = pd.DataFrame(x_scale, columns = ['ax','ay','az','gx','gy','gz'])\n",
    "print(df_x)"
   ]
  },
  {
   "cell_type": "markdown",
   "metadata": {
    "id": "rxkya0yeLL30"
   },
   "source": [
    "Performing windowing technique on train data."
   ]
  },
  {
   "cell_type": "code",
   "execution_count": 12,
   "metadata": {
    "id": "NUvUU_e48MMW"
   },
   "outputs": [],
   "source": [
    "def apply_windows(df_x, df_y, window_size=120):\n",
    "  x_window, y_window=[],[]\n",
    "  for i in range(0, len(df_x)-window_size, window_size+1):\n",
    "    x_window.append([df_x.values[i:i+window_size]])\n",
    "    y_window.append([df_y.values[i:i+window_size]])\n",
    "  x_window=np.array(x_window).reshape(-1,window_size,6)\n",
    "  y_window=np.array(y_window).reshape(-1,window_size,4)\n",
    "\n",
    "  return x_window, y_window"
   ]
  },
  {
   "cell_type": "code",
   "execution_count": 13,
   "metadata": {
    "colab": {
     "base_uri": "https://localhost:8080/"
    },
    "id": "GjnPtEx18QFw",
    "outputId": "444bbfa9-902e-4b6e-b6f6-f373876b2139"
   },
   "outputs": [
    {
     "name": "stdout",
     "output_type": "stream",
     "text": [
      "(16563, 80, 6) (16563, 80, 4)\n"
     ]
    }
   ],
   "source": [
    "window_size = 80\n",
    "x, y = apply_windows(df_x, df_y, window_size)\n",
    "print(x.shape, y.shape)"
   ]
  },
  {
   "cell_type": "markdown",
   "metadata": {
    "id": "3r6xz0KjMdPH"
   },
   "source": [
    "Split the data into training and validation set."
   ]
  },
  {
   "cell_type": "code",
   "execution_count": 14,
   "metadata": {
    "colab": {
     "base_uri": "https://localhost:8080/"
    },
    "id": "7FD6WpSm8UP8",
    "outputId": "3e482a7b-9e73-4898-d577-9badf9c010e9"
   },
   "outputs": [
    {
     "name": "stdout",
     "output_type": "stream",
     "text": [
      "14906 1657\n",
      "14906 1657\n"
     ]
    }
   ],
   "source": [
    "x_train, x_val, y_train, y_val = train_test_split(x, y, test_size=0.1,random_state=42)\n",
    "\n",
    "print(len(x_train), len(x_val))\n",
    "print(len(y_train), len(y_val))"
   ]
  },
  {
   "cell_type": "code",
   "execution_count": 16,
   "metadata": {
    "id": "zehUtOvE8ad1"
   },
   "outputs": [],
   "source": [
    "def generate_model_CNN():\n",
    "  model = Sequential()\n",
    "  model.add(Conv1D(32, kernel_size=3, activation='relu', padding='same', input_shape=(80,6)))\n",
    "  model.add(AveragePooling1D(2))\n",
    "  model.add(Dropout(0.2))\n",
    "\n",
    "  model.add(Conv1D(64, kernel_size=3, activation='relu', padding='same'))\n",
    "  model.add(AveragePooling1D(2))\n",
    "  model.add(Dropout(0.2))\n",
    "\n",
    "  model.add(Conv1D(64, kernel_size=3, activation='relu', padding='same'))\n",
    "  model.add(UpSampling1D(size=2))\n",
    "  model.add(Dropout(0.2))\n",
    "\n",
    "  model.add(Conv1D(32, kernel_size=3, activation='relu', padding='same'))\n",
    "  model.add(UpSampling1D(size=2))\n",
    "  model.add(Dropout(0.2))\n",
    "\n",
    "  model.add(Conv1D(4, kernel_size=3, activation='relu', padding='same'))\n",
    "  opt = SGD(lr=0.001, momentum=0.9)\n",
    "  model.compile(optimizer=Adam(learning_rate=0.001),  loss='categorical_crossentropy', metrics = ['accuracy'])\n",
    "  return model"
   ]
  },
  {
   "cell_type": "code",
   "execution_count": 17,
   "metadata": {
    "colab": {
     "base_uri": "https://localhost:8080/"
    },
    "id": "qTAoWFot8bA_",
    "outputId": "cbc833ac-2255-4fb3-9416-08244ba11247"
   },
   "outputs": [
    {
     "name": "stdout",
     "output_type": "stream",
     "text": [
      "Model: \"sequential\"\n",
      "_________________________________________________________________\n",
      " Layer (type)                Output Shape              Param #   \n",
      "=================================================================\n",
      " conv1d (Conv1D)             (None, 80, 32)            608       \n",
      "                                                                 \n",
      " average_pooling1d (AverageP  (None, 40, 32)           0         \n",
      " ooling1D)                                                       \n",
      "                                                                 \n",
      " dropout (Dropout)           (None, 40, 32)            0         \n",
      "                                                                 \n",
      " conv1d_1 (Conv1D)           (None, 40, 64)            6208      \n",
      "                                                                 \n",
      " average_pooling1d_1 (Averag  (None, 20, 64)           0         \n",
      " ePooling1D)                                                     \n",
      "                                                                 \n",
      " dropout_1 (Dropout)         (None, 20, 64)            0         \n",
      "                                                                 \n",
      " conv1d_2 (Conv1D)           (None, 20, 64)            12352     \n",
      "                                                                 \n",
      " up_sampling1d (UpSampling1D  (None, 40, 64)           0         \n",
      " )                                                               \n",
      "                                                                 \n",
      " dropout_2 (Dropout)         (None, 40, 64)            0         \n",
      "                                                                 \n",
      " conv1d_3 (Conv1D)           (None, 40, 32)            6176      \n",
      "                                                                 \n",
      " up_sampling1d_1 (UpSampling  (None, 80, 32)           0         \n",
      " 1D)                                                             \n",
      "                                                                 \n",
      " dropout_3 (Dropout)         (None, 80, 32)            0         \n",
      "                                                                 \n",
      " conv1d_4 (Conv1D)           (None, 80, 4)             388       \n",
      "                                                                 \n",
      "=================================================================\n",
      "Total params: 25,732\n",
      "Trainable params: 25,732\n",
      "Non-trainable params: 0\n",
      "_________________________________________________________________\n"
     ]
    }
   ],
   "source": [
    "with tpu_strategy.scope(): # creating the model in the TPUStrategy scope means we will train the model on the TPU\n",
    "  cnn_model = generate_model_CNN()\n",
    "cnn_model.summary()"
   ]
  },
  {
   "cell_type": "code",
   "execution_count": 18,
   "metadata": {
    "colab": {
     "base_uri": "https://localhost:8080/"
    },
    "id": "R4JYz9ez9o3o",
    "outputId": "b92c8870-a43f-4fc2-8264-ee553b3d494a"
   },
   "outputs": [
    {
     "name": "stdout",
     "output_type": "stream",
     "text": [
      "Epoch 1/40\n",
      "466/466 [==============================] - 18s 23ms/step - loss: nan - accuracy: 0.7438 - val_loss: 0.6355 - val_accuracy: 0.7638\n",
      "Epoch 2/40\n",
      "466/466 [==============================] - 9s 19ms/step - loss: 0.6990 - accuracy: 0.7573 - val_loss: 0.6226 - val_accuracy: 0.7884\n",
      "Epoch 3/40\n",
      "466/466 [==============================] - 9s 19ms/step - loss: 0.6326 - accuracy: 0.7750 - val_loss: 0.5525 - val_accuracy: 0.8076\n",
      "Epoch 4/40\n",
      "466/466 [==============================] - 9s 20ms/step - loss: 0.6297 - accuracy: 0.7775 - val_loss: 0.5422 - val_accuracy: 0.8013\n",
      "Epoch 5/40\n",
      "466/466 [==============================] - 8s 18ms/step - loss: 0.6015 - accuracy: 0.7831 - val_loss: 0.5165 - val_accuracy: 0.8111\n",
      "Epoch 6/40\n",
      "466/466 [==============================] - 9s 19ms/step - loss: 0.5768 - accuracy: 0.7923 - val_loss: 0.5833 - val_accuracy: 0.8126\n",
      "Epoch 7/40\n",
      "466/466 [==============================] - 8s 18ms/step - loss: 0.5627 - accuracy: 0.7967 - val_loss: 0.4683 - val_accuracy: 0.8320\n",
      "Epoch 8/40\n",
      "466/466 [==============================] - 9s 19ms/step - loss: 0.5399 - accuracy: 0.8066 - val_loss: 0.4496 - val_accuracy: 0.8366\n",
      "Epoch 9/40\n",
      "466/466 [==============================] - 8s 18ms/step - loss: 0.5294 - accuracy: 0.8079 - val_loss: 0.4445 - val_accuracy: 0.8462\n",
      "Epoch 10/40\n",
      "466/466 [==============================] - 9s 19ms/step - loss: 0.4897 - accuracy: 0.8231 - val_loss: 0.4058 - val_accuracy: 0.8547\n",
      "Epoch 11/40\n",
      "466/466 [==============================] - 10s 21ms/step - loss: 0.4933 - accuracy: 0.8237 - val_loss: 0.3998 - val_accuracy: 0.8569\n",
      "Epoch 12/40\n",
      "466/466 [==============================] - 8s 18ms/step - loss: 0.4828 - accuracy: 0.8268 - val_loss: 0.4001 - val_accuracy: 0.8550\n",
      "Epoch 13/40\n",
      "466/466 [==============================] - 9s 18ms/step - loss: 0.4627 - accuracy: 0.8326 - val_loss: 0.3785 - val_accuracy: 0.8645\n",
      "Epoch 14/40\n",
      "466/466 [==============================] - 8s 17ms/step - loss: 0.4587 - accuracy: 0.8374 - val_loss: 0.4115 - val_accuracy: 0.8579\n",
      "Epoch 15/40\n",
      "466/466 [==============================] - 9s 19ms/step - loss: 0.4500 - accuracy: 0.8397 - val_loss: 0.3606 - val_accuracy: 0.8694\n",
      "Epoch 16/40\n",
      "466/466 [==============================] - 8s 18ms/step - loss: 0.4422 - accuracy: 0.8386 - val_loss: 0.3634 - val_accuracy: 0.8675\n",
      "Epoch 17/40\n",
      "466/466 [==============================] - 9s 18ms/step - loss: 0.4262 - accuracy: 0.8453 - val_loss: 0.3749 - val_accuracy: 0.8643\n",
      "Epoch 18/40\n",
      "466/466 [==============================] - 9s 18ms/step - loss: 0.4521 - accuracy: 0.8382 - val_loss: 0.3886 - val_accuracy: 0.8561\n",
      "Epoch 19/40\n",
      "466/466 [==============================] - 8s 18ms/step - loss: 0.4343 - accuracy: 0.8431 - val_loss: 0.3551 - val_accuracy: 0.8744\n",
      "Epoch 20/40\n",
      "466/466 [==============================] - 9s 18ms/step - loss: 0.4127 - accuracy: 0.8499 - val_loss: 0.3420 - val_accuracy: 0.8782\n",
      "Epoch 21/40\n",
      "466/466 [==============================] - 8s 18ms/step - loss: 0.4134 - accuracy: 0.8494 - val_loss: 0.3505 - val_accuracy: 0.8732\n",
      "Epoch 22/40\n",
      "466/466 [==============================] - 9s 19ms/step - loss: 0.4267 - accuracy: 0.8451 - val_loss: 0.3376 - val_accuracy: 0.8776\n",
      "Epoch 23/40\n",
      "466/466 [==============================] - 8s 18ms/step - loss: 0.4009 - accuracy: 0.8529 - val_loss: 0.3300 - val_accuracy: 0.8819\n",
      "Epoch 24/40\n",
      "466/466 [==============================] - 9s 19ms/step - loss: 0.3923 - accuracy: 0.8559 - val_loss: 0.3272 - val_accuracy: 0.8843\n",
      "Epoch 25/40\n",
      "466/466 [==============================] - 8s 17ms/step - loss: 0.3859 - accuracy: 0.8598 - val_loss: 0.3186 - val_accuracy: 0.8850\n",
      "Epoch 26/40\n",
      "466/466 [==============================] - 9s 19ms/step - loss: 0.3841 - accuracy: 0.8597 - val_loss: 0.3205 - val_accuracy: 0.8835\n",
      "Epoch 27/40\n",
      "466/466 [==============================] - 8s 17ms/step - loss: 0.3761 - accuracy: 0.8617 - val_loss: 0.3190 - val_accuracy: 0.8862\n",
      "Epoch 28/40\n",
      "466/466 [==============================] - 9s 18ms/step - loss: 0.3733 - accuracy: 0.8621 - val_loss: 0.3204 - val_accuracy: 0.8845\n",
      "Epoch 29/40\n",
      "466/466 [==============================] - 9s 18ms/step - loss: 0.3754 - accuracy: 0.8610 - val_loss: 0.3085 - val_accuracy: 0.8888\n",
      "Epoch 30/40\n",
      "466/466 [==============================] - 8s 18ms/step - loss: 0.3788 - accuracy: 0.8600 - val_loss: 0.3122 - val_accuracy: 0.8865\n",
      "Epoch 31/40\n",
      "466/466 [==============================] - 9s 18ms/step - loss: 0.3794 - accuracy: 0.8611 - val_loss: 0.3058 - val_accuracy: 0.8903\n",
      "Epoch 32/40\n",
      "466/466 [==============================] - 8s 18ms/step - loss: 0.3611 - accuracy: 0.8678 - val_loss: 0.3007 - val_accuracy: 0.8907\n",
      "Epoch 33/40\n",
      "466/466 [==============================] - 9s 19ms/step - loss: 0.3531 - accuracy: 0.8701 - val_loss: 0.2977 - val_accuracy: 0.8958\n",
      "Epoch 34/40\n",
      "466/466 [==============================] - 8s 17ms/step - loss: 0.3538 - accuracy: 0.8698 - val_loss: 0.2931 - val_accuracy: 0.8947\n",
      "Epoch 35/40\n",
      "466/466 [==============================] - 9s 19ms/step - loss: 0.3796 - accuracy: 0.8616 - val_loss: 0.3100 - val_accuracy: 0.8924\n",
      "Epoch 36/40\n",
      "466/466 [==============================] - 8s 16ms/step - loss: 0.3676 - accuracy: 0.8650 - val_loss: 0.2944 - val_accuracy: 0.8965\n",
      "Epoch 37/40\n",
      "466/466 [==============================] - 8s 18ms/step - loss: 0.3536 - accuracy: 0.8701 - val_loss: 0.2880 - val_accuracy: 0.8988\n",
      "Epoch 38/40\n",
      "466/466 [==============================] - 8s 17ms/step - loss: 0.3526 - accuracy: 0.8699 - val_loss: 0.2888 - val_accuracy: 0.8973\n",
      "Epoch 39/40\n",
      "466/466 [==============================] - 9s 18ms/step - loss: 0.3466 - accuracy: 0.8726 - val_loss: 0.2809 - val_accuracy: 0.9014\n",
      "Epoch 40/40\n",
      "466/466 [==============================] - 8s 17ms/step - loss: 0.3499 - accuracy: 0.8717 - val_loss: 0.2809 - val_accuracy: 0.9004\n"
     ]
    }
   ],
   "source": [
    "history_cnn= cnn_model.fit(x_train, y_train, epochs=40, verbose=1, validation_data=(x_val, y_val))"
   ]
  },
  {
   "cell_type": "code",
   "execution_count": 19,
   "metadata": {
    "id": "W0_RWteCOf0B"
   },
   "outputs": [],
   "source": [
    "def plot_history(history):\n",
    "  plt.title('Loss')\n",
    "  plt.plot(history.history['loss'], color='blue', label='train')\n",
    "  plt.plot(history.history['val_loss'], color='red', label='validation')\n",
    "  plt.ylabel('Loss')\n",
    "  plt.xlabel('Epoch')\n",
    "  plt.legend(['Train', 'Validation'])\n",
    "  plt.show()\n",
    "  plt.title('Accuracy')\n",
    "  plt.plot(history.history['accuracy'], color='blue', label='train')\n",
    "  plt.plot(history.history['val_accuracy'], color='red', label='validation')\n",
    "  plt.ylabel('Accuracy')\n",
    "  plt.xlabel('Epoch')\n",
    "  plt.legend(['Train', 'Validation'])\n",
    "  plt.show()"
   ]
  },
  {
   "cell_type": "code",
   "execution_count": 20,
   "metadata": {
    "id": "KHSyiukxOgFd"
   },
   "outputs": [],
   "source": [
    "def flatten_pred(y_pred):\n",
    "  y_hat=[]\n",
    "  for i in y_pred:\n",
    "    for j in i:\n",
    "      y_hat.append(np.argmax(j))\n",
    "  return y_hat"
   ]
  },
  {
   "cell_type": "code",
   "execution_count": 21,
   "metadata": {
    "colab": {
     "base_uri": "https://localhost:8080/"
    },
    "id": "L6ZxOFxiOwen",
    "outputId": "2cd5a5ef-e66f-4063-d6da-090dd4ae02e7"
   },
   "outputs": [
    {
     "name": "stdout",
     "output_type": "stream",
     "text": [
      "52/52 [==============================] - 2s 17ms/step\n",
      "              precision    recall  f1-score   support\n",
      "\n",
      "           0       0.96      0.92      0.94    105331\n",
      "           1       0.93      0.85      0.89      5873\n",
      "           2       0.91      0.93      0.92      7436\n",
      "           3       0.58      0.77      0.66     13920\n",
      "\n",
      "    accuracy                           0.90    132560\n",
      "   macro avg       0.84      0.87      0.85    132560\n",
      "weighted avg       0.91      0.90      0.91    132560\n",
      "\n"
     ]
    }
   ],
   "source": [
    "y_val_predictions = cnn_model.predict(x_val)\n",
    "y_val_predictions_flatten = flatten_pred(y_val_predictions)\n",
    "y_val_flatten = flatten_pred(y_val)\n",
    "print(classification_report(y_val_predictions_flatten, y_val_flatten))"
   ]
  },
  {
   "cell_type": "code",
   "execution_count": 51,
   "metadata": {
    "id": "gXKRMwgrTVQd"
   },
   "outputs": [],
   "source": [
    "early_stopping = EarlyStopping(monitor='val_loss', patience=5, restore_best_weights=True)\n",
    "reduce_lr = ReduceLROnPlateau(monitor='val_loss', factor=0.5, patience=2)"
   ]
  },
  {
   "cell_type": "code",
   "execution_count": 53,
   "metadata": {
    "id": "MSi05KcVJ8Xd"
   },
   "outputs": [],
   "source": [
    "def generate_model_biLSTM():\n",
    "  model = Sequential()\n",
    "  model.add(Bidirectional(LSTM(90,return_sequences=True, input_shape=(80,6))))\n",
    "  model.add(Dropout(0.2))\n",
    "  model.add(LSTM(40, return_sequences=True, activation=\"relu\"))\n",
    "  model.add(Dropout(0.1))\n",
    "  model.add(Dense(22, activation=\"relu\"))\n",
    "  model.add(Dense(4, activation=\"softmax\"))\n",
    "  model.compile(optimizer=Adam(learning_rate=0.001),  loss='categorical_crossentropy', metrics = ['accuracy'])\n",
    "  return model"
   ]
  },
  {
   "cell_type": "code",
   "execution_count": 54,
   "metadata": {
    "id": "IPD2iGLVM7-Z"
   },
   "outputs": [],
   "source": [
    "with tpu_strategy.scope(): \n",
    "  bilstm_model=generate_model_biLSTM()"
   ]
  },
  {
   "cell_type": "code",
   "execution_count": 55,
   "metadata": {
    "colab": {
     "base_uri": "https://localhost:8080/"
    },
    "id": "_wPzg1VTJ_sn",
    "outputId": "f9a222a9-3583-45f8-96b1-71c1c89c6388"
   },
   "outputs": [
    {
     "name": "stdout",
     "output_type": "stream",
     "text": [
      "Epoch 1/25\n",
      "466/466 [==============================] - 29s 37ms/step - loss: 0.7660 - accuracy: 0.7476 - val_loss: 0.5767 - val_accuracy: 0.7892 - lr: 0.0010\n",
      "Epoch 2/25\n",
      "466/466 [==============================] - 14s 30ms/step - loss: 0.5877 - accuracy: 0.7974 - val_loss: 0.4753 - val_accuracy: 0.8325 - lr: 0.0010\n",
      "Epoch 3/25\n",
      "466/466 [==============================] - 16s 34ms/step - loss: 0.4786 - accuracy: 0.8277 - val_loss: 0.4057 - val_accuracy: 0.8582 - lr: 0.0010\n",
      "Epoch 4/25\n",
      "466/466 [==============================] - 17s 36ms/step - loss: 0.3984 - accuracy: 0.8544 - val_loss: 0.3465 - val_accuracy: 0.8818 - lr: 0.0010\n",
      "Epoch 5/25\n",
      "466/466 [==============================] - 15s 32ms/step - loss: 0.3555 - accuracy: 0.8701 - val_loss: 0.3184 - val_accuracy: 0.8825 - lr: 0.0010\n",
      "Epoch 6/25\n",
      "466/466 [==============================] - 14s 31ms/step - loss: 0.3111 - accuracy: 0.8884 - val_loss: 0.3384 - val_accuracy: 0.8709 - lr: 0.0010\n",
      "Epoch 7/25\n",
      "466/466 [==============================] - 15s 31ms/step - loss: 0.2821 - accuracy: 0.9025 - val_loss: 0.2868 - val_accuracy: 0.9038 - lr: 0.0010\n",
      "Epoch 8/25\n",
      "466/466 [==============================] - 14s 31ms/step - loss: 0.2601 - accuracy: 0.9108 - val_loss: 0.2274 - val_accuracy: 0.9238 - lr: 0.0010\n",
      "Epoch 9/25\n",
      "466/466 [==============================] - 14s 31ms/step - loss: 0.2408 - accuracy: 0.9175 - val_loss: 0.2192 - val_accuracy: 0.9257 - lr: 0.0010\n",
      "Epoch 10/25\n",
      "466/466 [==============================] - 15s 33ms/step - loss: 0.2186 - accuracy: 0.9253 - val_loss: 0.2202 - val_accuracy: 0.9283 - lr: 0.0010\n",
      "Epoch 11/25\n",
      "466/466 [==============================] - 16s 33ms/step - loss: 0.2049 - accuracy: 0.9312 - val_loss: 0.2015 - val_accuracy: 0.9325 - lr: 0.0010\n",
      "Epoch 12/25\n",
      "466/466 [==============================] - 14s 30ms/step - loss: 0.1945 - accuracy: 0.9352 - val_loss: 0.1912 - val_accuracy: 0.9344 - lr: 0.0010\n",
      "Epoch 13/25\n",
      "466/466 [==============================] - 14s 31ms/step - loss: 0.1862 - accuracy: 0.9385 - val_loss: 0.1980 - val_accuracy: 0.9368 - lr: 0.0010\n",
      "Epoch 14/25\n",
      "466/466 [==============================] - 14s 31ms/step - loss: 0.1828 - accuracy: 0.9379 - val_loss: 0.1959 - val_accuracy: 0.9369 - lr: 0.0010\n",
      "Epoch 15/25\n",
      "466/466 [==============================] - 14s 31ms/step - loss: 0.1567 - accuracy: 0.9491 - val_loss: 0.1690 - val_accuracy: 0.9457 - lr: 5.0000e-04\n",
      "Epoch 16/25\n",
      "466/466 [==============================] - 14s 30ms/step - loss: 0.1499 - accuracy: 0.9497 - val_loss: 0.1693 - val_accuracy: 0.9433 - lr: 5.0000e-04\n",
      "Epoch 17/25\n",
      "466/466 [==============================] - 14s 30ms/step - loss: 0.1439 - accuracy: 0.9526 - val_loss: 0.1722 - val_accuracy: 0.9451 - lr: 5.0000e-04\n",
      "Epoch 18/25\n",
      "466/466 [==============================] - 15s 32ms/step - loss: 0.1312 - accuracy: 0.9567 - val_loss: 0.1600 - val_accuracy: 0.9497 - lr: 2.5000e-04\n",
      "Epoch 19/25\n",
      "466/466 [==============================] - 14s 30ms/step - loss: 0.1273 - accuracy: 0.9582 - val_loss: 0.1573 - val_accuracy: 0.9486 - lr: 2.5000e-04\n",
      "Epoch 20/25\n",
      "466/466 [==============================] - 14s 30ms/step - loss: 0.1242 - accuracy: 0.9585 - val_loss: 0.1634 - val_accuracy: 0.9496 - lr: 2.5000e-04\n",
      "Epoch 21/25\n",
      "466/466 [==============================] - 14s 31ms/step - loss: 0.1237 - accuracy: 0.9590 - val_loss: 0.1743 - val_accuracy: 0.9399 - lr: 2.5000e-04\n",
      "Epoch 22/25\n",
      "466/466 [==============================] - 14s 31ms/step - loss: 0.1125 - accuracy: 0.9632 - val_loss: 0.1537 - val_accuracy: 0.9516 - lr: 1.2500e-04\n",
      "Epoch 23/25\n",
      "466/466 [==============================] - 14s 30ms/step - loss: 0.1098 - accuracy: 0.9640 - val_loss: 0.1527 - val_accuracy: 0.9539 - lr: 1.2500e-04\n",
      "Epoch 24/25\n",
      "466/466 [==============================] - 14s 30ms/step - loss: 0.1081 - accuracy: 0.9651 - val_loss: 0.1469 - val_accuracy: 0.9537 - lr: 1.2500e-04\n",
      "Epoch 25/25\n",
      "466/466 [==============================] - 14s 30ms/step - loss: 0.1067 - accuracy: 0.9648 - val_loss: 0.1492 - val_accuracy: 0.9528 - lr: 1.2500e-04\n"
     ]
    }
   ],
   "source": [
    "# 100, 50, 25, factor 0.2\n",
    "# 90, 40, 22, factor 0.5\n",
    "history_bilstm = bilstm_model.fit(x_train, y_train, epochs=25, verbose=1, validation_data=(x_val, y_val), callbacks=[early_stopping, reduce_lr])"
   ]
  },
  {
   "cell_type": "code",
   "execution_count": 56,
   "metadata": {
    "colab": {
     "base_uri": "https://localhost:8080/",
     "height": 927
    },
    "id": "6yoQRhDgKIgQ",
    "outputId": "58ac9796-2b1d-40e6-f601-4ce40c85e7be"
   },
   "outputs": [
    {
     "data": {
      "image/png": "[encoded data removed]",
      "text/plain": [
       "<Figure size 640x480 with 1 Axes>"
      ]
     },
     "metadata": {},
     "output_type": "display_data"
    },
    {
     "data": {
      "image/png": "[encoded data removed]",
      "text/plain": [
       "<Figure size 640x480 with 1 Axes>"
      ]
     },
     "metadata": {},
     "output_type": "display_data"
    }
   ],
   "source": [
    "plot_history(history_bilstm)"
   ]
  },
  {
   "cell_type": "code",
   "execution_count": 57,
   "metadata": {
    "colab": {
     "base_uri": "https://localhost:8080/"
    },
    "id": "ELv4q2fd8jPn",
    "outputId": "7c2b11c8-9496-4b20-f960-d9cbf6e828df"
   },
   "outputs": [
    {
     "name": "stdout",
     "output_type": "stream",
     "text": [
      "52/52 [==============================] - 4s 32ms/step\n",
      "              precision    recall  f1-score   support\n",
      "\n",
      "           0       0.97      0.97      0.97    101518\n",
      "           1       0.94      0.91      0.92      5495\n",
      "           2       0.92      0.96      0.94      7231\n",
      "           3       0.87      0.88      0.88     18316\n",
      "\n",
      "    accuracy                           0.95    132560\n",
      "   macro avg       0.92      0.93      0.93    132560\n",
      "weighted avg       0.95      0.95      0.95    132560\n",
      "\n"
     ]
    }
   ],
   "source": [
    "y_val_predictions = bilstm_model.predict(x_val)\n",
    "y_val_predictions_flatten = flatten_pred(y_val_predictions)\n",
    "y_val_flatten = flatten_pred(y_val)\n",
    "print(classification_report(y_val_predictions_flatten, y_val_flatten))"
   ]
  },
  {
   "cell_type": "markdown",
   "metadata": {
    "id": "dyEfVGhvFpVi"
   },
   "source": [
    "Generate Test files"
   ]
  },
  {
   "cell_type": "code",
   "execution_count": 58,
   "metadata": {
    "id": "zCIf4RZ1zTMi"
   },
   "outputs": [],
   "source": [
    "def apply_test_windows(df_x, window_size=80):\n",
    "  window_x=[]\n",
    "  for i in range(0, len(df_x)-window_size, window_size):\n",
    "    window_x.append([df_x.values[i:i+window_size]])\n",
    "  window_x=np.array(window_x).reshape(-1,window_size,6)\n",
    "  return window_x"
   ]
  },
  {
   "cell_type": "code",
   "execution_count": 59,
   "metadata": {
    "colab": {
     "base_uri": "https://localhost:8080/"
    },
    "id": "L-ARDG-LMEVV",
    "outputId": "c1d8c349-075d-4479-fa5e-6e345a822bdd"
   },
   "outputs": [
    {
     "name": "stdout",
     "output_type": "stream",
     "text": [
      "15/15 [==============================] - 1s 19ms/step\n",
      "(9498, 8)\n",
      "20/20 [==============================] - 2s 49ms/step\n",
      "(12270, 8)\n",
      "21/21 [==============================] - 4s 15ms/step\n",
      "(12940, 8)\n",
      "18/18 [==============================] - 1s 49ms/step\n",
      "(11330, 8)\n"
     ]
    }
   ],
   "source": [
    "test_files = sorted(set([x[:14] for x in test_x_files]))\n",
    "for file in test_files:\n",
    "  x = pd.read_csv(f\"{path}/TestData/{file}__x.csv\", names=[\"accr_x\", \"accr_y\",\"accr_z\",\"gyr_x\",\"gyr_y\",\"gyr_z\"])\n",
    "  # x_time = pd.read_csv(f\"{path}/TestData/{file}__x_time.csv\", names = [\"time\"])\n",
    "  x_test_scaled = scaler.transform(x)\n",
    "  x_test = pd.DataFrame(x_test_scaled, columns = ['ax','ay','az','gx','gy','gz'])\n",
    "  x = apply_test_windows(x_test, window_size) \n",
    "  y_pred = bilstm_model.predict(x)\n",
    "  y = y_pred.tolist()\n",
    "  yhat = flatten_pred(y)\n",
    "  yhat_df=pd.DataFrame(yhat, columns=['label'])\n",
    "  x = pd.read_csv(f\"{path}/TestData/{file}__x.csv\", names=[\"accr_x\", \"accr_y\",\"accr_z\",\"gyr_x\",\"gyr_y\",\"gyr_z\"])\n",
    "  x_time = pd.read_csv(f\"{path}/TestData/{file}__x_time.csv\", names = [\"time\"])\n",
    "  x['time'] = x_time['time']\n",
    "  x = x.join(yhat_df, how='left')\n",
    "  x['label'] = x['label'].fillna(0)\n",
    "  y_time = pd.read_csv(f\"{path}/TestData/{file}__y_time.csv\", names = [\"time\"])\n",
    "  x['time'] = x['time'].apply(lambda x:int(x*100)/100)\n",
    "  x_final= pd.merge(x, y_time, on='time', how='inner')\n",
    "  x_final['label'].to_csv(f'{file}__y.csv', index=False, header=False)\n",
    "  print(x_final.shape)"
   ]
  },
  {
   "cell_type": "code",
   "execution_count": null,
   "metadata": {
    "id": "RSUfueDpSqJt"
   },
   "outputs": [],
   "source": []
  }
 ],
 "metadata": {
  "accelerator": "TPU",
  "colab": {
   "provenance": []
  },
  "gpuClass": "standard",
  "kernelspec": {
   "display_name": "Python 3 (ipykernel)",
   "language": "python",
   "name": "python3"
  },
  "language_info": {
   "codemirror_mode": {
    "name": "ipython",
    "version": 3
   },
   "file_extension": ".py",
   "mimetype": "text/x-python",
   "name": "python",
   "nbconvert_exporter": "python",
   "pygments_lexer": "ipython3",
   "version": "3.9.12"
  }
 },
 "nbformat": 4,
 "nbformat_minor": 1
}

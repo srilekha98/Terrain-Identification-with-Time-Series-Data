{
 "cells": [
  {
   "cell_type": "code",
   "execution_count": 107,
   "id": "7882bdd5",
   "metadata": {},
   "outputs": [],
   "source": [
    "import glob \n",
    "import os\n",
    "import re\n",
    "import warnings\n",
    "warnings.filterwarnings('ignore')\n",
    "import numpy as np\n",
    "import pandas as pd\n",
    "import fnmatch\n",
    "import matplotlib.pyplot as plt\n",
    "from collections import defaultdict\n",
    "%matplotlib inline\n",
    "from IPython.core.display import HTML\n",
    "import seaborn as sns\n",
    "import matplotlib.ticker as ticker\n",
    "from sklearn.model_selection import train_test_split\n",
    "from sklearn import model_selection\n",
    "from sklearn.ensemble import RandomForestClassifier\n",
    "\n",
    "from sklearn.linear_model import LogisticRegression\n",
    "from sklearn import preprocessing\n",
    "from sklearn.model_selection import cross_val_score\n",
    "from sklearn.metrics import accuracy_score\n",
    "from sklearn.metrics import classification_report, confusion_matrix"
   ]
  },
  {
   "cell_type": "code",
   "execution_count": 118,
   "id": "6b91def2",
   "metadata": {},
   "outputs": [],
   "source": [
    "#Training Data\n",
    "trainData = os.listdir(\"TrainingData\")[1::]\n",
    "x_time_files = fnmatch.filter(trainData,'*x_time.csv')\n",
    "y_time_files = fnmatch.filter(trainData,'*y_time.csv')\n",
    "x_files = fnmatch.filter(trainData,'*x.csv')\n",
    "y_files = fnmatch.filter(trainData,'*y.csv')\n",
    "\n",
    "#Test Data\n",
    "trainData = os.listdir(\"TestData\")\n",
    "test_x_time_files = fnmatch.filter(trainData,'*x_time.csv')\n",
    "test_y_time_files = fnmatch.filter(trainData,'*y_time.csv')\n",
    "test_x_files = fnmatch.filter(trainData,'*x.csv')"
   ]
  },
  {
   "cell_type": "code",
   "execution_count": 3,
   "id": "e96316cc",
   "metadata": {},
   "outputs": [
    {
     "data": {
      "text/plain": [
       "['subject_009_01__y_time.csv',\n",
       " 'subject_010_01__y_time.csv',\n",
       " 'subject_011_01__y_time.csv',\n",
       " 'subject_012_01__y_time.csv']"
      ]
     },
     "execution_count": 3,
     "metadata": {},
     "output_type": "execute_result"
    }
   ],
   "source": [
    "test_y_time_files "
   ]
  },
  {
   "cell_type": "code",
   "execution_count": 119,
   "id": "b2d9ce2e",
   "metadata": {},
   "outputs": [],
   "source": [
    "#Creating Dataframes and joining the grouped filenames\n",
    "df_x = pd.DataFrame()\n",
    "df_y = pd.DataFrame()\n",
    "df_x_time = pd.DataFrame()\n",
    "df_y_time = pd.DataFrame()\n",
    "y = pd.DataFrame()\n",
    "x = pd.DataFrame()\n",
    "files = sorted(set([x[:14] for x in x_files]))\n",
    "\n",
    "for file in files:\n",
    "    temp_x = pd.read_csv(f\"TrainingData/{file}__x.csv\", names=[\"accr_x\", \"accr_y\",\"accr_z\",\"gyr_x\",\"gyr_y\",\"gyr_z\"])\n",
    "    temp_x[\"subject\"] = file\n",
    "    df_x = df_x.append(temp_x)\n",
    "    temp_y = pd.read_csv(f\"TrainingData/{file}__y.csv\",names=[\"label\"])\n",
    "    temp_y[\"subject\"] = file\n",
    "    df_y = df_y.append(temp_y)\n",
    "    temp_xt = pd.read_csv(f\"TrainingData/{file}__x_time.csv\", names = [\"time\"])\n",
    "    df_x_time = df_x_time.append(temp_xt)    \n",
    "    temp_yt = pd.read_csv(f\"TrainingData/{file}__y_time.csv\",names=[\"y_time\"])\n",
    "    df_y_time = df_y_time.append(temp_yt)\n",
    "    temp_x_concat = pd.concat([temp_xt,temp_x],axis=1)\n",
    "    x = x.append(temp_x_concat)\n",
    "    \n",
    "    temp_y_concat=pd.concat([temp_yt,temp_y],axis=1)\n",
    "    \n",
    "    y = y.append(temp_y_concat)\n",
    "    "
   ]
  },
  {
   "cell_type": "code",
   "execution_count": 120,
   "id": "0b9aef7d",
   "metadata": {},
   "outputs": [],
   "source": [
    "y = y.reset_index(drop=True)\n",
    "x = x.reset_index(drop=True)"
   ]
  },
  {
   "cell_type": "code",
   "execution_count": 121,
   "id": "526a75af",
   "metadata": {},
   "outputs": [
    {
     "name": "stdout",
     "output_type": "stream",
     "text": [
      "1341652\n",
      "1341646\n"
     ]
    }
   ],
   "source": [
    "labels=[]\n",
    "# since all y_times and x_times are in order and are in the ratio 1:4. mapping first four x's to first y label and so on.\n",
    "for i in y[\"label\"]:\n",
    "    labels += [i]*4\n",
    "print(len(labels)) #1341652\n",
    "print(len(x)) #1341646\n",
    "labels = labels[:1341646]"
   ]
  },
  {
   "cell_type": "code",
   "execution_count": 122,
   "id": "ed03f5b8",
   "metadata": {},
   "outputs": [],
   "source": [
    "le = preprocessing.LabelEncoder()\n",
    "x['subject'] = le.fit_transform(x['subject'])\n"
   ]
  },
  {
   "cell_type": "code",
   "execution_count": 123,
   "id": "c4419213",
   "metadata": {},
   "outputs": [
    {
     "data": {
      "text/plain": [
       "(1341646, 1341646)"
      ]
     },
     "execution_count": 123,
     "metadata": {},
     "output_type": "execute_result"
    }
   ],
   "source": [
    "len(x),len(labels)"
   ]
  },
  {
   "cell_type": "code",
   "execution_count": 125,
   "id": "142b64dc",
   "metadata": {},
   "outputs": [
    {
     "data": {
      "text/html": [
       "<style>#sk-container-id-6 {color: black;background-color: white;}#sk-container-id-6 pre{padding: 0;}#sk-container-id-6 div.sk-toggleable {background-color: white;}#sk-container-id-6 label.sk-toggleable__label {cursor: pointer;display: block;width: 100%;margin-bottom: 0;padding: 0.3em;box-sizing: border-box;text-align: center;}#sk-container-id-6 label.sk-toggleable__label-arrow:before {content: \"▸\";float: left;margin-right: 0.25em;color: #696969;}#sk-container-id-6 label.sk-toggleable__label-arrow:hover:before {color: black;}#sk-container-id-6 div.sk-estimator:hover label.sk-toggleable__label-arrow:before {color: black;}#sk-container-id-6 div.sk-toggleable__content {max-height: 0;max-width: 0;overflow: hidden;text-align: left;background-color: #f0f8ff;}#sk-container-id-6 div.sk-toggleable__content pre {margin: 0.2em;color: black;border-radius: 0.25em;background-color: #f0f8ff;}#sk-container-id-6 input.sk-toggleable__control:checked~div.sk-toggleable__content {max-height: 200px;max-width: 100%;overflow: auto;}#sk-container-id-6 input.sk-toggleable__control:checked~label.sk-toggleable__label-arrow:before {content: \"▾\";}#sk-container-id-6 div.sk-estimator input.sk-toggleable__control:checked~label.sk-toggleable__label {background-color: #d4ebff;}#sk-container-id-6 div.sk-label input.sk-toggleable__control:checked~label.sk-toggleable__label {background-color: #d4ebff;}#sk-container-id-6 input.sk-hidden--visually {border: 0;clip: rect(1px 1px 1px 1px);clip: rect(1px, 1px, 1px, 1px);height: 1px;margin: -1px;overflow: hidden;padding: 0;position: absolute;width: 1px;}#sk-container-id-6 div.sk-estimator {font-family: monospace;background-color: #f0f8ff;border: 1px dotted black;border-radius: 0.25em;box-sizing: border-box;margin-bottom: 0.5em;}#sk-container-id-6 div.sk-estimator:hover {background-color: #d4ebff;}#sk-container-id-6 div.sk-parallel-item::after {content: \"\";width: 100%;border-bottom: 1px solid gray;flex-grow: 1;}#sk-container-id-6 div.sk-label:hover label.sk-toggleable__label {background-color: #d4ebff;}#sk-container-id-6 div.sk-serial::before {content: \"\";position: absolute;border-left: 1px solid gray;box-sizing: border-box;top: 0;bottom: 0;left: 50%;z-index: 0;}#sk-container-id-6 div.sk-serial {display: flex;flex-direction: column;align-items: center;background-color: white;padding-right: 0.2em;padding-left: 0.2em;position: relative;}#sk-container-id-6 div.sk-item {position: relative;z-index: 1;}#sk-container-id-6 div.sk-parallel {display: flex;align-items: stretch;justify-content: center;background-color: white;position: relative;}#sk-container-id-6 div.sk-item::before, #sk-container-id-6 div.sk-parallel-item::before {content: \"\";position: absolute;border-left: 1px solid gray;box-sizing: border-box;top: 0;bottom: 0;left: 50%;z-index: -1;}#sk-container-id-6 div.sk-parallel-item {display: flex;flex-direction: column;z-index: 1;position: relative;background-color: white;}#sk-container-id-6 div.sk-parallel-item:first-child::after {align-self: flex-end;width: 50%;}#sk-container-id-6 div.sk-parallel-item:last-child::after {align-self: flex-start;width: 50%;}#sk-container-id-6 div.sk-parallel-item:only-child::after {width: 0;}#sk-container-id-6 div.sk-dashed-wrapped {border: 1px dashed gray;margin: 0 0.4em 0.5em 0.4em;box-sizing: border-box;padding-bottom: 0.4em;background-color: white;}#sk-container-id-6 div.sk-label label {font-family: monospace;font-weight: bold;display: inline-block;line-height: 1.2em;}#sk-container-id-6 div.sk-label-container {text-align: center;}#sk-container-id-6 div.sk-container {/* jupyter's `normalize.less` sets `[hidden] { display: none; }` but bootstrap.min.css set `[hidden] { display: none !important; }` so we also need the `!important` here to be able to override the default hidden behavior on the sphinx rendered scikit-learn.org. See: https://github.com/scikit-learn/scikit-learn/issues/21755 */display: inline-block !important;position: relative;}#sk-container-id-6 div.sk-text-repr-fallback {display: none;}</style><div id=\"sk-container-id-6\" class=\"sk-top-container\"><div class=\"sk-text-repr-fallback\"><pre>RandomForestClassifier(random_state=42)</pre><b>In a Jupyter environment, please rerun this cell to show the HTML representation or trust the notebook. <br />On GitHub, the HTML representation is unable to render, please try loading this page with nbviewer.org.</b></div><div class=\"sk-container\" hidden><div class=\"sk-item\"><div class=\"sk-estimator sk-toggleable\"><input class=\"sk-toggleable__control sk-hidden--visually\" id=\"sk-estimator-id-6\" type=\"checkbox\" checked><label for=\"sk-estimator-id-6\" class=\"sk-toggleable__label sk-toggleable__label-arrow\">RandomForestClassifier</label><div class=\"sk-toggleable__content\"><pre>RandomForestClassifier(random_state=42)</pre></div></div></div></div></div>"
      ],
      "text/plain": [
       "RandomForestClassifier(random_state=42)"
      ]
     },
     "execution_count": 125,
     "metadata": {},
     "output_type": "execute_result"
    }
   ],
   "source": [
    "#train_features, test_features, train_labels, test_labels = train_test_split(x, labels, test_size = 0.2, random_state = 42)\n",
    "train_features, test_features, train_labels, test_labels = x[:1073312], x[1073312:], labels[:1073312], labels[1073312:]\n",
    "   \n",
    "rf = RandomForestClassifier(n_estimators = 100, random_state = 42)\n",
    "rf.fit(train_features, train_labels)"
   ]
  },
  {
   "cell_type": "code",
   "execution_count": 126,
   "id": "024f2f2f",
   "metadata": {},
   "outputs": [
    {
     "name": "stdout",
     "output_type": "stream",
     "text": [
      "Accuracy: 0.7148479134213331\n",
      "=== Confusion Matrix ===\n",
      "[[182969   2823    910   9096]\n",
      " [  3912   2218     29    205]\n",
      " [  8605     61   2618    680]\n",
      " [ 48466   1305    424   4013]]\n",
      "=== Classification Report ===\n",
      "              precision    recall  f1-score   support\n",
      "\n",
      "           0       0.75      0.93      0.83    195798\n",
      "           1       0.35      0.35      0.35      6364\n",
      "           2       0.66      0.22      0.33     11964\n",
      "           3       0.29      0.07      0.12     54208\n",
      "\n",
      "    accuracy                           0.71    268334\n",
      "   macro avg       0.51      0.39      0.41    268334\n",
      "weighted avg       0.64      0.71      0.65    268334\n",
      "\n"
     ]
    }
   ],
   "source": [
    "# Use the forest's predict method on the test data\n",
    "predictions = rf.predict(test_features)\n",
    "\n",
    "print(\"Accuracy:\", accuracy_score(test_labels, predictions))\n",
    "\n",
    "print(\"=== Confusion Matrix ===\")\n",
    "print(confusion_matrix(test_labels, predictions))\n",
    "print(\"=== Classification Report ===\")\n",
    "print(classification_report(test_labels, predictions))"
   ]
  },
  {
   "cell_type": "code",
   "execution_count": 115,
   "id": "20f2f65a",
   "metadata": {},
   "outputs": [
    {
     "data": {
      "text/plain": [
       "(1341634, 1341646)"
      ]
     },
     "execution_count": 115,
     "metadata": {},
     "output_type": "execute_result"
    }
   ],
   "source": [
    "len(x), len(labels)"
   ]
  },
  {
   "cell_type": "code",
   "execution_count": 124,
   "id": "2312a484",
   "metadata": {},
   "outputs": [
    {
     "name": "stdout",
     "output_type": "stream",
     "text": [
      "Accuracy: 0.7296168208277743\n",
      "=== Confusion Matrix ===\n",
      "[[195779     15      4      0]\n",
      " [  6362      1      1      0]\n",
      " [ 11959      4      1      0]\n",
      " [ 54194     14      0      0]]\n",
      "=== Classification Report ===\n",
      "              precision    recall  f1-score   support\n",
      "\n",
      "           0       0.73      1.00      0.84    195798\n",
      "           1       0.03      0.00      0.00      6364\n",
      "           2       0.17      0.00      0.00     11964\n",
      "           3       0.00      0.00      0.00     54208\n",
      "\n",
      "    accuracy                           0.73    268334\n",
      "   macro avg       0.23      0.25      0.21    268334\n",
      "weighted avg       0.54      0.73      0.62    268334\n",
      "\n"
     ]
    }
   ],
   "source": [
    "n = len(x)\n",
    "train_features, test_features, train_labels, test_labels = x[:1073312], x[1073312:], labels[:1073312], labels[1073312:]\n",
    "                                                                            \n",
    "lr = LogisticRegression(random_state = 42)\n",
    "lr.fit(train_features, train_labels)\n",
    "predictions_lr = lr.predict(test_features)\n",
    "\n",
    "print(\"Accuracy:\", accuracy_score(test_labels, predictions_lr))\n",
    "\n",
    "print(\"=== Confusion Matrix ===\")\n",
    "print(confusion_matrix(test_labels, predictions_lr))\n",
    "print(\"=== Classification Report ===\")\n",
    "print(classification_report(test_labels, predictions_lr))"
   ]
  },
  {
   "cell_type": "code",
   "execution_count": null,
   "id": "989a7eb6",
   "metadata": {},
   "outputs": [],
   "source": []
  }
 ],
 "metadata": {
  "kernelspec": {
   "display_name": "Python 3 (ipykernel)",
   "language": "python",
   "name": "python3"
  },
  "language_info": {
   "codemirror_mode": {
    "name": "ipython",
    "version": 3
   },
   "file_extension": ".py",
   "mimetype": "text/x-python",
   "name": "python",
   "nbconvert_exporter": "python",
   "pygments_lexer": "ipython3",
   "version": "3.10.9"
  }
 },
 "nbformat": 4,
 "nbformat_minor": 5
}
